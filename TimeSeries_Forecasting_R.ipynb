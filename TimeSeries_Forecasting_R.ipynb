{
  "cells": [
    {
      "cell_type": "markdown",
      "metadata": {
        "id": "view-in-github",
        "colab_type": "text"
      },
      "source": [
        "<a href=\"https://colab.research.google.com/github/ahams/analyticApproach/blob/master/TimeSeries_Forecasting_R.ipynb\" target=\"_parent\"><img src=\"https://colab.research.google.com/assets/colab-badge.svg\" alt=\"Open In Colab\"/></a>"
      ]
    },
    {
      "cell_type": "markdown",
      "metadata": {
        "id": "3bWL5mKE2qng"
      },
      "source": [
        "Start rmagic in Notebook\n",
        "https://rpy2.github.io/doc/v3.0.x/html/interactive.html#module-rpy2.ipython.rmagic"
      ]
    },
    {
      "cell_type": "code",
      "execution_count": null,
      "metadata": {
        "id": "8zsYL4v52c1f"
      },
      "outputs": [],
      "source": [
        "%load_ext rpy2.ipython\n"
      ]
    },
    {
      "cell_type": "markdown",
      "metadata": {
        "id": "op1pD8MTPrEr"
      },
      "source": [
        "To ensure R packages persist over mutilple session, we will have to use the below few steps to download R package to the local directory in Colab.\n",
        "https://stackoverflow.com/questions/63594521/install-a-r-package-permanently-in-google-colab"
      ]
    },
    {
      "cell_type": "markdown",
      "metadata": {
        "id": "YnUNlglcReed"
      },
      "source": [
        "To download package first and then download it to src directory in the colab and link the directory for future sessions"
      ]
    },
    {
      "cell_type": "code",
      "execution_count": null,
      "metadata": {
        "id": "R8NAQ1AOLW5g"
      },
      "outputs": [],
      "source": [
        "%%R\n",
        ".libPaths()\n",
        "installed.packages()"
      ]
    },
    {
      "cell_type": "code",
      "execution_count": null,
      "metadata": {
        "colab": {
          "base_uri": "https://localhost:8080/"
        },
        "id": "np4kq7kTzQ4A",
        "outputId": "81ef6fe5-a9e8-4ec3-8b88-490303fb6f04"
      },
      "outputs": [
        {
          "output_type": "stream",
          "name": "stderr",
          "text": [
            "R[write to console]: Installing package into ‘/content/usr/local/lib/R/site-library’\n",
            "(as ‘lib’ is unspecified)\n",
            "\n",
            "R[write to console]: also installing the dependencies ‘xts’, ‘TTR’, ‘quadprog’, ‘quantmod’, ‘fracdiff’, ‘lmtest’, ‘timeDate’, ‘tseries’, ‘urca’, ‘zoo’, ‘RcppArmadillo’\n",
            "\n",
            "\n",
            "R[write to console]: trying URL 'https://cran.rstudio.com/src/contrib/xts_0.12.1.tar.gz'\n",
            "\n",
            "R[write to console]: Content type 'application/x-gzip'\n",
            "R[write to console]:  length 517875 bytes (505 KB)\n",
            "\n",
            "R[write to console]: =\n",
            "R[write to console]: =\n",
            "R[write to console]: =\n",
            "R[write to console]: =\n",
            "R[write to console]: =\n",
            "R[write to console]: =\n",
            "R[write to console]: =\n",
            "R[write to console]: =\n",
            "R[write to console]: =\n",
            "R[write to console]: =\n",
            "R[write to console]: =\n",
            "R[write to console]: =\n",
            "R[write to console]: =\n",
            "R[write to console]: =\n",
            "R[write to console]: =\n",
            "R[write to console]: =\n",
            "R[write to console]: =\n",
            "R[write to console]: =\n",
            "R[write to console]: =\n",
            "R[write to console]: =\n",
            "R[write to console]: =\n",
            "R[write to console]: =\n",
            "R[write to console]: =\n",
            "R[write to console]: =\n",
            "R[write to console]: =\n",
            "R[write to console]: =\n",
            "R[write to console]: =\n",
            "R[write to console]: =\n",
            "R[write to console]: =\n",
            "R[write to console]: =\n",
            "R[write to console]: =\n",
            "R[write to console]: =\n",
            "R[write to console]: =\n",
            "R[write to console]: =\n",
            "R[write to console]: =\n",
            "R[write to console]: =\n",
            "R[write to console]: =\n",
            "R[write to console]: =\n",
            "R[write to console]: =\n",
            "R[write to console]: =\n",
            "R[write to console]: =\n",
            "R[write to console]: =\n",
            "R[write to console]: =\n",
            "R[write to console]: =\n",
            "R[write to console]: =\n",
            "R[write to console]: =\n",
            "R[write to console]: =\n",
            "R[write to console]: =\n",
            "R[write to console]: =\n",
            "R[write to console]: =\n",
            "R[write to console]: \n",
            "\n",
            "R[write to console]: downloaded 505 KB\n",
            "\n",
            "\n",
            "R[write to console]: trying URL 'https://cran.rstudio.com/src/contrib/TTR_0.24.3.tar.gz'\n",
            "\n",
            "R[write to console]: Content type 'application/x-gzip'\n",
            "R[write to console]:  length 317338 bytes (309 KB)\n",
            "\n",
            "R[write to console]: =\n",
            "R[write to console]: =\n",
            "R[write to console]: =\n",
            "R[write to console]: =\n",
            "R[write to console]: =\n",
            "R[write to console]: =\n",
            "R[write to console]: =\n",
            "R[write to console]: =\n",
            "R[write to console]: =\n",
            "R[write to console]: =\n",
            "R[write to console]: =\n",
            "R[write to console]: =\n",
            "R[write to console]: =\n",
            "R[write to console]: =\n",
            "R[write to console]: =\n",
            "R[write to console]: =\n",
            "R[write to console]: =\n",
            "R[write to console]: =\n",
            "R[write to console]: =\n",
            "R[write to console]: =\n",
            "R[write to console]: =\n",
            "R[write to console]: =\n",
            "R[write to console]: =\n",
            "R[write to console]: =\n",
            "R[write to console]: =\n",
            "R[write to console]: =\n",
            "R[write to console]: =\n",
            "R[write to console]: =\n",
            "R[write to console]: =\n",
            "R[write to console]: =\n",
            "R[write to console]: =\n",
            "R[write to console]: =\n",
            "R[write to console]: =\n",
            "R[write to console]: =\n",
            "R[write to console]: =\n",
            "R[write to console]: =\n",
            "R[write to console]: =\n",
            "R[write to console]: =\n",
            "R[write to console]: =\n",
            "R[write to console]: =\n",
            "R[write to console]: =\n",
            "R[write to console]: =\n",
            "R[write to console]: =\n",
            "R[write to console]: =\n",
            "R[write to console]: =\n",
            "R[write to console]: =\n",
            "R[write to console]: =\n",
            "R[write to console]: =\n",
            "R[write to console]: =\n",
            "R[write to console]: =\n",
            "R[write to console]: \n",
            "\n",
            "R[write to console]: downloaded 309 KB\n",
            "\n",
            "\n",
            "R[write to console]: trying URL 'https://cran.rstudio.com/src/contrib/quadprog_1.5-8.tar.gz'\n",
            "\n",
            "R[write to console]: Content type 'application/x-gzip'\n",
            "R[write to console]:  length 36141 bytes (35 KB)\n",
            "\n",
            "R[write to console]: =\n",
            "R[write to console]: =\n",
            "R[write to console]: =\n",
            "R[write to console]: =\n",
            "R[write to console]: =\n",
            "R[write to console]: =\n",
            "R[write to console]: =\n",
            "R[write to console]: =\n",
            "R[write to console]: =\n",
            "R[write to console]: =\n",
            "R[write to console]: =\n",
            "R[write to console]: =\n",
            "R[write to console]: =\n",
            "R[write to console]: =\n",
            "R[write to console]: =\n",
            "R[write to console]: =\n",
            "R[write to console]: =\n",
            "R[write to console]: =\n",
            "R[write to console]: =\n",
            "R[write to console]: =\n",
            "R[write to console]: =\n",
            "R[write to console]: =\n",
            "R[write to console]: =\n",
            "R[write to console]: =\n",
            "R[write to console]: =\n",
            "R[write to console]: =\n",
            "R[write to console]: =\n",
            "R[write to console]: =\n",
            "R[write to console]: =\n",
            "R[write to console]: =\n",
            "R[write to console]: =\n",
            "R[write to console]: =\n",
            "R[write to console]: =\n",
            "R[write to console]: =\n",
            "R[write to console]: =\n",
            "R[write to console]: =\n",
            "R[write to console]: =\n",
            "R[write to console]: =\n",
            "R[write to console]: =\n",
            "R[write to console]: =\n",
            "R[write to console]: =\n",
            "R[write to console]: =\n",
            "R[write to console]: =\n",
            "R[write to console]: =\n",
            "R[write to console]: =\n",
            "R[write to console]: =\n",
            "R[write to console]: =\n",
            "R[write to console]: =\n",
            "R[write to console]: =\n",
            "R[write to console]: =\n",
            "R[write to console]: \n",
            "\n",
            "R[write to console]: downloaded 35 KB\n",
            "\n",
            "\n",
            "R[write to console]: trying URL 'https://cran.rstudio.com/src/contrib/quantmod_0.4.20.tar.gz'\n",
            "\n",
            "R[write to console]: Content type 'application/x-gzip'\n",
            "R[write to console]:  length 156640 bytes (152 KB)\n",
            "\n",
            "R[write to console]: =\n",
            "R[write to console]: =\n",
            "R[write to console]: =\n",
            "R[write to console]: =\n",
            "R[write to console]: =\n",
            "R[write to console]: =\n",
            "R[write to console]: =\n",
            "R[write to console]: =\n",
            "R[write to console]: =\n",
            "R[write to console]: =\n",
            "R[write to console]: =\n",
            "R[write to console]: =\n",
            "R[write to console]: =\n",
            "R[write to console]: =\n",
            "R[write to console]: =\n",
            "R[write to console]: =\n",
            "R[write to console]: =\n",
            "R[write to console]: =\n",
            "R[write to console]: =\n",
            "R[write to console]: =\n",
            "R[write to console]: =\n",
            "R[write to console]: =\n",
            "R[write to console]: =\n",
            "R[write to console]: =\n",
            "R[write to console]: =\n",
            "R[write to console]: =\n",
            "R[write to console]: =\n",
            "R[write to console]: =\n",
            "R[write to console]: =\n",
            "R[write to console]: =\n",
            "R[write to console]: =\n",
            "R[write to console]: =\n",
            "R[write to console]: =\n",
            "R[write to console]: =\n",
            "R[write to console]: =\n",
            "R[write to console]: =\n",
            "R[write to console]: =\n",
            "R[write to console]: =\n",
            "R[write to console]: =\n",
            "R[write to console]: =\n",
            "R[write to console]: =\n",
            "R[write to console]: =\n",
            "R[write to console]: =\n",
            "R[write to console]: =\n",
            "R[write to console]: =\n",
            "R[write to console]: =\n",
            "R[write to console]: =\n",
            "R[write to console]: =\n",
            "R[write to console]: =\n",
            "R[write to console]: =\n",
            "R[write to console]: \n",
            "\n",
            "R[write to console]: downloaded 152 KB\n",
            "\n",
            "\n",
            "R[write to console]: trying URL 'https://cran.rstudio.com/src/contrib/fracdiff_1.5-1.tar.gz'\n",
            "\n",
            "R[write to console]: Content type 'application/x-gzip'\n",
            "R[write to console]:  length 63764 bytes (62 KB)\n",
            "\n",
            "R[write to console]: =\n",
            "R[write to console]: =\n",
            "R[write to console]: =\n",
            "R[write to console]: =\n",
            "R[write to console]: =\n",
            "R[write to console]: =\n",
            "R[write to console]: =\n",
            "R[write to console]: =\n",
            "R[write to console]: =\n",
            "R[write to console]: =\n",
            "R[write to console]: =\n",
            "R[write to console]: =\n",
            "R[write to console]: =\n",
            "R[write to console]: =\n",
            "R[write to console]: =\n",
            "R[write to console]: =\n",
            "R[write to console]: =\n",
            "R[write to console]: =\n",
            "R[write to console]: =\n",
            "R[write to console]: =\n",
            "R[write to console]: =\n",
            "R[write to console]: =\n",
            "R[write to console]: =\n",
            "R[write to console]: =\n",
            "R[write to console]: =\n",
            "R[write to console]: =\n",
            "R[write to console]: =\n",
            "R[write to console]: =\n",
            "R[write to console]: =\n",
            "R[write to console]: =\n",
            "R[write to console]: =\n",
            "R[write to console]: =\n",
            "R[write to console]: =\n",
            "R[write to console]: =\n",
            "R[write to console]: =\n",
            "R[write to console]: =\n",
            "R[write to console]: =\n",
            "R[write to console]: =\n",
            "R[write to console]: =\n",
            "R[write to console]: =\n",
            "R[write to console]: =\n",
            "R[write to console]: =\n",
            "R[write to console]: =\n",
            "R[write to console]: =\n",
            "R[write to console]: =\n",
            "R[write to console]: =\n",
            "R[write to console]: =\n",
            "R[write to console]: =\n",
            "R[write to console]: =\n",
            "R[write to console]: =\n",
            "R[write to console]: \n",
            "\n",
            "R[write to console]: downloaded 62 KB\n",
            "\n",
            "\n",
            "R[write to console]: trying URL 'https://cran.rstudio.com/src/contrib/lmtest_0.9-40.tar.gz'\n",
            "\n",
            "R[write to console]: Content type 'application/x-gzip'\n",
            "R[write to console]:  length 230313 bytes (224 KB)\n",
            "\n",
            "R[write to console]: =\n",
            "R[write to console]: =\n",
            "R[write to console]: =\n",
            "R[write to console]: =\n",
            "R[write to console]: =\n",
            "R[write to console]: =\n",
            "R[write to console]: =\n",
            "R[write to console]: =\n",
            "R[write to console]: =\n",
            "R[write to console]: =\n",
            "R[write to console]: =\n",
            "R[write to console]: =\n",
            "R[write to console]: =\n",
            "R[write to console]: =\n",
            "R[write to console]: =\n",
            "R[write to console]: =\n",
            "R[write to console]: =\n",
            "R[write to console]: =\n",
            "R[write to console]: =\n",
            "R[write to console]: =\n",
            "R[write to console]: =\n",
            "R[write to console]: =\n",
            "R[write to console]: =\n",
            "R[write to console]: =\n",
            "R[write to console]: =\n",
            "R[write to console]: =\n",
            "R[write to console]: =\n",
            "R[write to console]: =\n",
            "R[write to console]: =\n",
            "R[write to console]: =\n",
            "R[write to console]: =\n",
            "R[write to console]: =\n",
            "R[write to console]: =\n",
            "R[write to console]: =\n",
            "R[write to console]: =\n",
            "R[write to console]: =\n",
            "R[write to console]: =\n",
            "R[write to console]: =\n",
            "R[write to console]: =\n",
            "R[write to console]: =\n",
            "R[write to console]: =\n",
            "R[write to console]: =\n",
            "R[write to console]: =\n",
            "R[write to console]: =\n",
            "R[write to console]: =\n",
            "R[write to console]: =\n",
            "R[write to console]: =\n",
            "R[write to console]: =\n",
            "R[write to console]: =\n",
            "R[write to console]: =\n",
            "R[write to console]: \n",
            "\n",
            "R[write to console]: downloaded 224 KB\n",
            "\n",
            "\n",
            "R[write to console]: trying URL 'https://cran.rstudio.com/src/contrib/timeDate_3043.102.tar.gz'\n",
            "\n",
            "R[write to console]: Content type 'application/x-gzip'\n",
            "R[write to console]:  length 314656 bytes (307 KB)\n",
            "\n",
            "R[write to console]: =\n",
            "R[write to console]: =\n",
            "R[write to console]: =\n",
            "R[write to console]: =\n",
            "R[write to console]: =\n",
            "R[write to console]: =\n",
            "R[write to console]: =\n",
            "R[write to console]: =\n",
            "R[write to console]: =\n",
            "R[write to console]: =\n",
            "R[write to console]: =\n",
            "R[write to console]: =\n",
            "R[write to console]: =\n",
            "R[write to console]: =\n",
            "R[write to console]: =\n",
            "R[write to console]: =\n",
            "R[write to console]: =\n",
            "R[write to console]: =\n",
            "R[write to console]: =\n",
            "R[write to console]: =\n",
            "R[write to console]: =\n",
            "R[write to console]: =\n",
            "R[write to console]: =\n",
            "R[write to console]: =\n",
            "R[write to console]: =\n",
            "R[write to console]: =\n",
            "R[write to console]: =\n",
            "R[write to console]: =\n",
            "R[write to console]: =\n",
            "R[write to console]: =\n",
            "R[write to console]: =\n",
            "R[write to console]: =\n",
            "R[write to console]: =\n",
            "R[write to console]: =\n",
            "R[write to console]: =\n",
            "R[write to console]: =\n",
            "R[write to console]: =\n",
            "R[write to console]: =\n",
            "R[write to console]: =\n",
            "R[write to console]: =\n",
            "R[write to console]: =\n",
            "R[write to console]: =\n",
            "R[write to console]: =\n",
            "R[write to console]: =\n",
            "R[write to console]: =\n",
            "R[write to console]: =\n",
            "R[write to console]: =\n",
            "R[write to console]: =\n",
            "R[write to console]: =\n",
            "R[write to console]: =\n",
            "R[write to console]: \n",
            "\n",
            "R[write to console]: downloaded 307 KB\n",
            "\n",
            "\n",
            "R[write to console]: trying URL 'https://cran.rstudio.com/src/contrib/tseries_0.10-51.tar.gz'\n",
            "\n",
            "R[write to console]: Content type 'application/x-gzip'\n",
            "R[write to console]:  length 164850 bytes (160 KB)\n",
            "\n",
            "R[write to console]: =\n",
            "R[write to console]: =\n",
            "R[write to console]: =\n",
            "R[write to console]: =\n",
            "R[write to console]: =\n",
            "R[write to console]: =\n",
            "R[write to console]: =\n",
            "R[write to console]: =\n",
            "R[write to console]: =\n",
            "R[write to console]: =\n",
            "R[write to console]: =\n",
            "R[write to console]: =\n",
            "R[write to console]: =\n",
            "R[write to console]: =\n",
            "R[write to console]: =\n",
            "R[write to console]: =\n",
            "R[write to console]: =\n",
            "R[write to console]: =\n",
            "R[write to console]: =\n",
            "R[write to console]: =\n",
            "R[write to console]: =\n",
            "R[write to console]: =\n",
            "R[write to console]: =\n",
            "R[write to console]: =\n",
            "R[write to console]: =\n",
            "R[write to console]: =\n",
            "R[write to console]: =\n",
            "R[write to console]: =\n",
            "R[write to console]: =\n",
            "R[write to console]: =\n",
            "R[write to console]: =\n",
            "R[write to console]: =\n",
            "R[write to console]: =\n",
            "R[write to console]: =\n",
            "R[write to console]: =\n",
            "R[write to console]: =\n",
            "R[write to console]: =\n",
            "R[write to console]: =\n",
            "R[write to console]: =\n",
            "R[write to console]: =\n",
            "R[write to console]: =\n",
            "R[write to console]: =\n",
            "R[write to console]: =\n",
            "R[write to console]: =\n",
            "R[write to console]: =\n",
            "R[write to console]: =\n",
            "R[write to console]: =\n",
            "R[write to console]: =\n",
            "R[write to console]: =\n",
            "R[write to console]: =\n",
            "R[write to console]: \n",
            "\n",
            "R[write to console]: downloaded 160 KB\n",
            "\n",
            "\n",
            "R[write to console]: trying URL 'https://cran.rstudio.com/src/contrib/urca_1.3-0.tar.gz'\n",
            "\n",
            "R[write to console]: Content type 'application/x-gzip'\n",
            "R[write to console]:  length 682935 bytes (666 KB)\n",
            "\n",
            "R[write to console]: =\n",
            "R[write to console]: =\n",
            "R[write to console]: =\n",
            "R[write to console]: =\n",
            "R[write to console]: =\n",
            "R[write to console]: =\n",
            "R[write to console]: =\n",
            "R[write to console]: =\n",
            "R[write to console]: =\n",
            "R[write to console]: =\n",
            "R[write to console]: =\n",
            "R[write to console]: =\n",
            "R[write to console]: =\n",
            "R[write to console]: =\n",
            "R[write to console]: =\n",
            "R[write to console]: =\n",
            "R[write to console]: =\n",
            "R[write to console]: =\n",
            "R[write to console]: =\n",
            "R[write to console]: =\n",
            "R[write to console]: =\n",
            "R[write to console]: =\n",
            "R[write to console]: =\n",
            "R[write to console]: =\n",
            "R[write to console]: =\n",
            "R[write to console]: =\n",
            "R[write to console]: =\n",
            "R[write to console]: =\n",
            "R[write to console]: =\n",
            "R[write to console]: =\n",
            "R[write to console]: =\n",
            "R[write to console]: =\n",
            "R[write to console]: =\n",
            "R[write to console]: =\n",
            "R[write to console]: =\n",
            "R[write to console]: =\n",
            "R[write to console]: =\n",
            "R[write to console]: =\n",
            "R[write to console]: =\n",
            "R[write to console]: =\n",
            "R[write to console]: =\n",
            "R[write to console]: =\n",
            "R[write to console]: =\n",
            "R[write to console]: =\n",
            "R[write to console]: =\n",
            "R[write to console]: =\n",
            "R[write to console]: =\n",
            "R[write to console]: =\n",
            "R[write to console]: =\n",
            "R[write to console]: =\n",
            "R[write to console]: \n",
            "\n",
            "R[write to console]: downloaded 666 KB\n",
            "\n",
            "\n",
            "R[write to console]: trying URL 'https://cran.rstudio.com/src/contrib/zoo_1.8-10.tar.gz'\n",
            "\n",
            "R[write to console]: Content type 'application/x-gzip'\n",
            "R[write to console]:  length 808943 bytes (789 KB)\n",
            "\n",
            "R[write to console]: =\n",
            "R[write to console]: =\n",
            "R[write to console]: =\n",
            "R[write to console]: =\n",
            "R[write to console]: =\n",
            "R[write to console]: =\n",
            "R[write to console]: =\n",
            "R[write to console]: =\n",
            "R[write to console]: =\n",
            "R[write to console]: =\n",
            "R[write to console]: =\n",
            "R[write to console]: =\n",
            "R[write to console]: =\n",
            "R[write to console]: =\n",
            "R[write to console]: =\n",
            "R[write to console]: =\n",
            "R[write to console]: =\n",
            "R[write to console]: =\n",
            "R[write to console]: =\n",
            "R[write to console]: =\n",
            "R[write to console]: =\n",
            "R[write to console]: =\n",
            "R[write to console]: =\n",
            "R[write to console]: =\n",
            "R[write to console]: =\n",
            "R[write to console]: =\n",
            "R[write to console]: =\n",
            "R[write to console]: =\n",
            "R[write to console]: =\n",
            "R[write to console]: =\n",
            "R[write to console]: =\n",
            "R[write to console]: =\n",
            "R[write to console]: =\n",
            "R[write to console]: =\n",
            "R[write to console]: =\n",
            "R[write to console]: =\n",
            "R[write to console]: =\n",
            "R[write to console]: =\n",
            "R[write to console]: =\n",
            "R[write to console]: =\n",
            "R[write to console]: =\n",
            "R[write to console]: =\n",
            "R[write to console]: =\n",
            "R[write to console]: =\n",
            "R[write to console]: =\n",
            "R[write to console]: =\n",
            "R[write to console]: =\n",
            "R[write to console]: =\n",
            "R[write to console]: =\n",
            "R[write to console]: =\n",
            "R[write to console]: \n",
            "\n",
            "R[write to console]: downloaded 789 KB\n",
            "\n",
            "\n",
            "R[write to console]: trying URL 'https://cran.rstudio.com/src/contrib/RcppArmadillo_0.11.2.0.0.tar.gz'\n",
            "\n",
            "R[write to console]: Content type 'application/x-gzip'\n",
            "R[write to console]:  length 1364212 bytes (1.3 MB)\n",
            "\n",
            "R[write to console]: =\n",
            "R[write to console]: =\n",
            "R[write to console]: =\n",
            "R[write to console]: =\n",
            "R[write to console]: =\n",
            "R[write to console]: =\n",
            "R[write to console]: =\n",
            "R[write to console]: =\n",
            "R[write to console]: =\n",
            "R[write to console]: =\n",
            "R[write to console]: =\n",
            "R[write to console]: =\n",
            "R[write to console]: =\n",
            "R[write to console]: =\n",
            "R[write to console]: =\n",
            "R[write to console]: =\n",
            "R[write to console]: =\n",
            "R[write to console]: =\n",
            "R[write to console]: =\n",
            "R[write to console]: =\n",
            "R[write to console]: =\n",
            "R[write to console]: =\n",
            "R[write to console]: =\n",
            "R[write to console]: =\n",
            "R[write to console]: =\n",
            "R[write to console]: =\n",
            "R[write to console]: =\n",
            "R[write to console]: =\n",
            "R[write to console]: =\n",
            "R[write to console]: =\n",
            "R[write to console]: =\n",
            "R[write to console]: =\n",
            "R[write to console]: =\n",
            "R[write to console]: =\n",
            "R[write to console]: =\n",
            "R[write to console]: =\n",
            "R[write to console]: =\n",
            "R[write to console]: =\n",
            "R[write to console]: =\n",
            "R[write to console]: =\n",
            "R[write to console]: =\n",
            "R[write to console]: =\n",
            "R[write to console]: =\n",
            "R[write to console]: =\n",
            "R[write to console]: =\n",
            "R[write to console]: =\n",
            "R[write to console]: =\n",
            "R[write to console]: =\n",
            "R[write to console]: =\n",
            "R[write to console]: =\n",
            "R[write to console]: \n",
            "\n",
            "R[write to console]: downloaded 1.3 MB\n",
            "\n",
            "\n",
            "R[write to console]: trying URL 'https://cran.rstudio.com/src/contrib/forecast_8.16.tar.gz'\n",
            "\n",
            "R[write to console]: Content type 'application/x-gzip'\n",
            "R[write to console]:  length 785973 bytes (767 KB)\n",
            "\n",
            "R[write to console]: =\n",
            "R[write to console]: =\n",
            "R[write to console]: =\n",
            "R[write to console]: =\n",
            "R[write to console]: =\n",
            "R[write to console]: =\n",
            "R[write to console]: =\n",
            "R[write to console]: =\n",
            "R[write to console]: =\n",
            "R[write to console]: =\n",
            "R[write to console]: =\n",
            "R[write to console]: =\n",
            "R[write to console]: =\n",
            "R[write to console]: =\n",
            "R[write to console]: =\n",
            "R[write to console]: =\n",
            "R[write to console]: =\n",
            "R[write to console]: =\n",
            "R[write to console]: =\n",
            "R[write to console]: =\n",
            "R[write to console]: =\n",
            "R[write to console]: =\n",
            "R[write to console]: =\n",
            "R[write to console]: =\n",
            "R[write to console]: =\n",
            "R[write to console]: =\n",
            "R[write to console]: =\n",
            "R[write to console]: =\n",
            "R[write to console]: =\n",
            "R[write to console]: =\n",
            "R[write to console]: =\n",
            "R[write to console]: =\n",
            "R[write to console]: =\n",
            "R[write to console]: =\n",
            "R[write to console]: =\n",
            "R[write to console]: =\n",
            "R[write to console]: =\n",
            "R[write to console]: =\n",
            "R[write to console]: =\n",
            "R[write to console]: =\n",
            "R[write to console]: =\n",
            "R[write to console]: =\n",
            "R[write to console]: =\n",
            "R[write to console]: =\n",
            "R[write to console]: =\n",
            "R[write to console]: =\n",
            "R[write to console]: =\n",
            "R[write to console]: =\n",
            "R[write to console]: =\n",
            "R[write to console]: =\n",
            "R[write to console]: \n",
            "\n",
            "R[write to console]: downloaded 767 KB\n",
            "\n",
            "\n",
            "R[write to console]: \n",
            "\n",
            "R[write to console]: \n",
            "R[write to console]: The downloaded source packages are in\n",
            "\t‘/tmp/RtmpDsg9RA/downloaded_packages’\n",
            "R[write to console]: \n",
            "R[write to console]: \n",
            "\n"
          ]
        }
      ],
      "source": [
        "%%R\n",
        "#install.packages(c(\"quantmod\",\"tidyquant\",\"RSQLite\",\"tsibble\",\"fpp3\",\"fable\",\"dynlm\"))\n",
        "#install.packages(c(\"DBI\",\"readr\",\"lubridate\",\"tidyr\",\"dbplyr\"))\n",
        "#install.packages(c(\"dynlm\",\"forecast\",\"RSQLite\"))\n",
        "install.packages(\"forecast\")\n",
        "tar(\"library.tar.gz\", \"/usr/local/lib/R/site-library\")\n"
      ]
    },
    {
      "cell_type": "code",
      "execution_count": null,
      "metadata": {
        "id": "E7Ljnt5jQsJC"
      },
      "outputs": [],
      "source": [
        "%cp library.tar.gz /content/drive/MyDrive/src"
      ]
    },
    {
      "cell_type": "code",
      "execution_count": null,
      "metadata": {
        "colab": {
          "base_uri": "https://localhost:8080/"
        },
        "id": "VwQVKX3eRR8Q",
        "outputId": "0de9a48b-4544-4bbf-c911-8ddfafc1c7b4"
      },
      "outputs": [
        {
          "output_type": "stream",
          "name": "stdout",
          "text": [
            "tar: Removing leading `/' from member names\n"
          ]
        }
      ],
      "source": [
        "!tar xf library.tar.gz"
      ]
    },
    {
      "cell_type": "code",
      "execution_count": null,
      "metadata": {
        "id": "5J1FmF7RRWeE"
      },
      "outputs": [],
      "source": [
        "%%R\n",
        ".libPaths('usr/local/lib/R/site-library/')"
      ]
    },
    {
      "cell_type": "code",
      "execution_count": null,
      "metadata": {
        "id": "GBdV8BbqRa3V",
        "colab": {
          "base_uri": "https://localhost:8080/"
        },
        "outputId": "db3fa270-26f9-4e3b-b30c-996e863ce872"
      },
      "outputs": [
        {
          "output_type": "stream",
          "name": "stderr",
          "text": [
            "R[write to console]: Registered S3 method overwritten by 'quantmod':\n",
            "  method            from\n",
            "  as.zoo.data.frame zoo \n",
            "\n",
            "R[write to console]: This is forecast 8.16 \n",
            "  Need help getting started? Try the online textbook FPP:\n",
            "  http://otexts.com/fpp2/\n",
            "\n"
          ]
        }
      ],
      "source": [
        "%%R\n",
        "library(forecast)"
      ]
    },
    {
      "cell_type": "markdown",
      "metadata": {
        "id": "6DsPJIImR1Gd"
      },
      "source": [
        "Below two cell depict how to use R with python environment in Colab"
      ]
    },
    {
      "cell_type": "code",
      "execution_count": null,
      "metadata": {
        "id": "Qmbf-kDN2lgK"
      },
      "outputs": [],
      "source": [
        "import pandas as pd\n",
        "df = pd.DataFrame({\n",
        "    'cups_of_coffee': [0, 1, 2, 3, 4, 5, 6, 7, 8, 9],\n",
        "    'productivity': [2, 5, 6, 8, 9, 8, 0, 1, 0, -1]\n",
        "})"
      ]
    },
    {
      "cell_type": "code",
      "execution_count": null,
      "metadata": {
        "id": "PaSIepSY25Pc"
      },
      "outputs": [],
      "source": [
        "%%R -i df -w 5 -h 5 --units in -r 200\n",
        "# import df from global environment\n",
        "# make default figure size 5 by 5 inches with 200 dpi resolution\n",
        "emp_data <- data.frame(\n",
        "   emp_id = c (1:5), \n",
        "   emp_name = c(\"Rick\",\"Dan\",\"Michelle\",\"Ryan\",\"Gary\"),\n",
        "   salary = c(623.3,515.2,611.0,729.0,843.25), \n",
        "   \n",
        "   start_date = as.Date(c(\"2012-01-01\", \"2013-09-23\", \"2014-11-15\", \"2014-05-11\",\n",
        "      \"2015-03-27\")),\n",
        "   stringsAsFactors = FALSE\n",
        ")\n",
        "# install.packages(\"ggplot2\", repos='http://cran.us.r-project.org', quiet=TRUE)\n",
        "# library(ggplot2)\n",
        "# ggplot(df, aes(x=cups_of_coffee, y=productivity)) + geom_line()"
      ]
    },
    {
      "cell_type": "markdown",
      "metadata": {
        "id": "L8DyINCK8DM-"
      },
      "source": [
        "Get data from R to Python, we can use -o or Rpull"
      ]
    },
    {
      "cell_type": "code",
      "execution_count": null,
      "metadata": {
        "colab": {
          "base_uri": "https://localhost:8080/"
        },
        "id": "jm2B_MZ46OvE",
        "outputId": "5c19a7c4-da7f-4f68-8d28-51643c918735"
      },
      "outputs": [
        {
          "name": "stdout",
          "output_type": "stream",
          "text": [
            "   emp_id  emp_name  salary  start_date\n",
            "1       1      Rick  623.30     15340.0\n",
            "2       2       Dan  515.20     15971.0\n",
            "3       3  Michelle  611.00     16389.0\n",
            "4       4      Ryan  729.00     16201.0\n",
            "5       5      Gary  843.25     16521.0\n"
          ]
        }
      ],
      "source": [
        "%R-o emp_data\n",
        "\n",
        "df1=pd.DataFrame(emp_data)\n",
        "print(df1)\n"
      ]
    },
    {
      "cell_type": "markdown",
      "metadata": {
        "id": "dvmwBSQn9Y6S"
      },
      "source": [
        "Now time for some modelling:-Lets apply time series model from R to Python "
      ]
    },
    {
      "cell_type": "code",
      "execution_count": null,
      "metadata": {
        "id": "6C5Hg1SR9MU6"
      },
      "outputs": [],
      "source": [
        "# try to formalise the analysis for every type of data\n",
        "# first read the data from the subset file\n",
        "\n",
        "''' THIS IS THE WORKING MODEL \n",
        "\n",
        "'''\n",
        "\n",
        "import html5lib\n",
        "import datetime\n",
        "import pandas as pd\n",
        "import numpy as np\n",
        "from sklearn.metrics import mean_squared_error\n",
        "from statistics import mean\n",
        "import warnings\n",
        "#warnings.filterwarnings(\"ignore\",category=DeprecationWarning)\n",
        "\n",
        "warnings.filterwarnings(\"ignore\")"
      ]
    },
    {
      "cell_type": "code",
      "execution_count": null,
      "metadata": {
        "id": "fRyRMjTm9gt4"
      },
      "outputs": [],
      "source": [
        "#stk=pd.read_csv(\"/content/drive/MyDrive/sos_scheme.csv\",index_col=False,usecols=[\"Symbol\",\"Applicable Step value\"])\n",
        "#stk=pd.read_csv(\"/sos_scheme.csv\")\n",
        "#stk.to_pickle(\"stk_gap.pickle\")\n",
        "#stk_gap=pd.read_pickle(\"stk_gap.pickle\")\n",
        "exp_date=pd.read_csv(\"/content/drive/MyDrive/Expiry2022.csv\",index_col=False,usecols=[\"Expiry_format\"])\n",
        "#exp_date.to_pickle(\"exp_date.pickle\")\n"
      ]
    },
    {
      "cell_type": "code",
      "execution_count": null,
      "metadata": {
        "colab": {
          "base_uri": "https://localhost:8080/"
        },
        "id": "NcZr4FxPPUIu",
        "outputId": "5218498a-fe70-4809-e5e9-d90f591e68ad"
      },
      "outputs": [
        {
          "output_type": "stream",
          "name": "stdout",
          "text": [
            "['6 - Jan - 2022', '13 - Jan - 2022', '20 - Jan - 2022', '27 - Jan - 2022', '3 - Feb - 2022', '10 - Feb - 2022', '17 - Feb - 2022', '24 - Feb - 2022', '3 - Mar - 2022', '10 - Mar - 2022', '17 - Mar - 2022', '24 - Mar - 2022', '31 - Mar - 2022', '7 - Apr - 2022', '13 - Apr - 2022', '21 - Apr - 2022', '28 - Apr - 2022', '5 - May - 2022', '12 - May - 2022', '19 - May - 2022', '26 - May - 2022', '2 - Jun - 2022', '9 - Jun - 2022', '16 - Jun - 2022', '23 - Jun - 2022', '30 - Jun - 2022', '7 - Jul - 2022', '14 - Jul - 2022', '21 - Jul - 2022', '28 - Jul - 2022', '4 - Aug - 2022', '11 - Aug - 2022', '18 - Aug - 2022', '25 - Aug - 2022', '1 - Sep - 2022', '8 - Sep - 2022', '15 - Sep - 2022', '22 - Sep - 2022', '29 - Sep - 2022', '6 - Oct - 2022', '13 - Oct - 2022', '20 - Oct - 2022', '27 - Oct - 2022', '3 - Nov - 2022', '10 - Nov - 2022', '17 - Nov - 2022', '24 - Nov - 2022', '1 - Dec - 2022', '8 - Dec - 2022', '15 - Dec - 2022', '22 - Dec - 2022', '29 - Dec - 2022']\n"
          ]
        }
      ],
      "source": [
        "print(exp_date[\"Expiry_format\"].to_list())\n",
        "\n"
      ]
    },
    {
      "cell_type": "code",
      "execution_count": null,
      "metadata": {
        "colab": {
          "base_uri": "https://localhost:8080/"
        },
        "id": "dD1GZUOC9nah",
        "outputId": "c96a7bce-9627-4995-a97b-ae03c244a645"
      },
      "outputs": [
        {
          "name": "stdout",
          "output_type": "stream",
          "text": [
            "StockCode? AXISBANK,BHARTIARTL,ICICIBANK,IDEA,INDUSINDBK,INFY,HDFC,LT,M&M,MARUTI,RELIANCE,SBIN,SUNPHARMA,TCS,YESBANK--nifty\n"
          ]
        }
      ],
      "source": [
        "getScript=input('StockCode? AXISBANK,BHARTIARTL,ICICIBANK,IDEA,INDUSINDBK,INFY,HDFC,LT,M&M,MARUTI,RELIANCE,SBIN,SUNPHARMA,TCS,YESBANK--') \n",
        "getScript=getScript.upper()"
      ]
    },
    {
      "cell_type": "code",
      "execution_count": null,
      "metadata": {
        "id": "GrxCwEUg9ohH"
      },
      "outputs": [],
      "source": [
        "#import library\n",
        "import sqlite3 as db\n",
        "import pandas as pd\n",
        "con = db.connect('/content/drive/MyDrive/OptionAnalysis.db')\n",
        "# to pull relevNT SCRIPT ONLY\n",
        "result_pd = pd.read_sql_query('SELECT * FROM \"2017-21\" WHERE SYMBOL_x ==\"{}\"'.format(getScript),con)\n",
        "result_pd = result_pd.reset_index()\n",
        "# replace error & nan values\n",
        "result_pd.replace([np.inf, -np.inf], np.nan, inplace=True)\n",
        "result_pd.fillna(0, inplace=True)"
      ]
    },
    {
      "cell_type": "code",
      "execution_count": null,
      "metadata": {
        "id": "x20QAGk21iXG"
      },
      "outputs": [],
      "source": [
        "%%R\n",
        "# library(forecast)\n",
        "library(lubridate)\n",
        "# library(dynlm)\n",
        "library(DBI)\n",
        "# library(RSQLite)\n",
        "library(tidyverse)\n",
        "library(dbplyr)\n",
        "library(readr)"
      ]
    },
    {
      "cell_type": "code",
      "execution_count": null,
      "metadata": {
        "id": "DxO7nBvNBEC-"
      },
      "outputs": [],
      "source": [
        "%%R\n",
        "con <- dbConnect(RSQLite::SQLite(),'/content/drive/MyDrive/OptionAnalysis.db')\n",
        "testFct<-dplyr::tbl(con,\"bhav\") # needs to be updated, it contains raw data from NSE. It contains OPTIDX data, table 2017-21 does not contain index data\n",
        "#testFct<-dplyr::tbl(con,\"2017-21\") #  it contains modifed data,converting raw data with features and lloks ike typical opt chain\n",
        "\n",
        "bankNif<-dplyr::tbl(con,\"Banknifty\") # spot prices in this tABLE\n",
        "Expiry_dt<-dplyr::tbl(con,\"ExpiryDates\") %>% dplyr::collect() \n",
        "head(testFct)\n",
        "testNif<-testFct %>% dplyr::filter(SYMBOL==\"BANKNIFTY\")%>% dplyr::collect()\n",
        "testBnk<-bankNif %>%dplyr::collect() %>% distinct() %>% mutate(Date= lubridate::dmy(Date)) %>% mutate(`Turnover(Rs.Cr)`=as.numeric(`Turnover(Rs.Cr)`)) %>% mutate(SharesTraded=as.numeric(SharesTraded))\n",
        "\n",
        "# getting dates from the database table and would be used to create new database table.\n",
        "\n",
        "#### UNCOMMENT if new items are to be added\n",
        "\n",
        "# testDt<- testFct %>% select(EXPIRY_DT) %>% collect() %>% unique() %>% \n",
        "# testDt<- lubridate::dmy(testDt$EXPIRY_DT)\n",
        "# testDt<-data.frame(ExpiryDate=testDt) %>% arrange(ExpiryDate)\n",
        "# write_csv(testDt,\"/Users/abdulhameed/OptData/ExpiryDates.csv\")\n"
      ]
    },
    {
      "cell_type": "code",
      "execution_count": null,
      "metadata": {
        "id": "Q0vKw4G3C1X9"
      },
      "outputs": [],
      "source": [
        "%%R\n",
        "#https://www1.nseindia.com/products/content/equities/indices/historical_index_data.htm \n",
        "#to get he data\n",
        "#bank_csv_in =read.csv(\"/Users/abdulhameed/Downloads/data.csv\")\n",
        "bank_csv<-testBnk %>% dplyr::rename(Turnover = \"Turnover(Rs.Cr)\") %>% dplyr::rename(Volume= SharesTraded) %>% mutate_at(c(6,7),as.numeric) %>% na.omit()"
      ]
    },
    {
      "cell_type": "code",
      "execution_count": null,
      "metadata": {
        "colab": {
          "base_uri": "https://localhost:8080/"
        },
        "id": "zPHXiGIlbXHd",
        "outputId": "40b9a49e-3c02-486a-cb46-c1d84665cc34"
      },
      "outputs": [
        {
          "output_type": "stream",
          "name": "stdout",
          "text": [
            "# A tibble: 1,814 × 12\n",
            "   Date         Open   High    Low  Close Volume Turnover PreClose Opn2prevClose\n",
            "   <date>      <dbl>  <dbl>  <dbl>  <dbl>  <dbl>    <dbl>    <dbl>         <dbl>\n",
            " 1 2015-01-02 18752. 19119. 18752. 19058. 4.13e7    1713.   18750.          1.75\n",
            " 2 2015-01-05 19155. 19166  18988. 19017. 3.63e7    1497.   19058.         97.4 \n",
            " 3 2015-01-06 18875. 18875. 18388. 18431. 5.21e7    2125.   19017.       -143.  \n",
            " 4 2015-01-07 18383. 18482. 18212. 18304. 5.82e7    2342.   18431.        -48.2 \n",
            " 5 2015-01-08 18587. 18752. 18486. 18701. 4.77e7    2209.   18304.        283.  \n",
            " 6 2015-01-09 18846. 18864  18480. 18637. 5.18e7    2361.   18701.        144.  \n",
            " 7 2015-01-12 18632  18822. 18530. 18796. 3.51e7    1429.   18637.         -5.25\n",
            " 8 2015-01-13 18889  18921. 18643. 18707. 4.46e7    2054.   18796.         93.2 \n",
            " 9 2015-01-14 18670. 18770. 18518. 18604. 4.16e7    1850.   18707.        -36.8 \n",
            "10 2015-01-15 19340. 19410. 19061. 19236. 8.65e7    3633.   18604.        737.  \n",
            "# … with 1,804 more rows, and 3 more variables: Open2High <dbl>,\n",
            "#   Open2Low <dbl>, High2Low <dbl>\n"
          ]
        }
      ],
      "source": [
        "%%R\n",
        "head(bank_csv)\n",
        "bk_lag<-bank_csv %>% mutate(PreClose=lag(Close,1),Opn2prevClose=Open-PreClose,Open2High=Open-High,Open2Low=Open-Low,High2Low=High-Low)%>%drop_na()\n",
        "bk_lag\n"
      ]
    },
    {
      "cell_type": "code",
      "execution_count": null,
      "metadata": {
        "id": "TM1VNMr3CuNX"
      },
      "outputs": [],
      "source": [
        "%%R\n",
        "# convert date to the conventional format\n",
        "bank_csv$Date <-ymd(bank_csv$Date)\n",
        "\n",
        "# lets add a feature to capture the no of days from expiry, weekly expiry in case of banknifty\n",
        "# week_start uses Monday as 1 for week starting date\n",
        "bank_csv <-  bank_csv %>%  mutate(Days2Expiry = wday(Date,week_start = 4))\n",
        "bank_csv$Days2Expiry <-bank_csv$Days2Expiry#as.f`ctors\n"
      ]
    },
    {
      "cell_type": "code",
      "execution_count": null,
      "metadata": {
        "id": "95e0dBW2DLjP"
      },
      "outputs": [],
      "source": [
        "%%R\n",
        "train_bk<-bank_csv %>%  dplyr::filter(Date <= \"2022-01-31\",Date!=\"2021-11-01\") %>% dplyr::mutate_at(vars(\"Volume\"),as.numeric) %>% dplyr::mutate_at(vars(\"Turnover\"),as.numeric) %>% distinct(Date,.keep_all=TRUE) \n",
        "\n",
        "#%>% as_tsibble()%>% dplyr::mutate_at(vars(\"Days2Expiry\"),as.factor)#%>% dplyr::select(-X) #%>% dplyr::mutate_at(vars(\"Days2Expiry\"),as.factor)\n",
        "test_bk<-bank_csv %>%  dplyr::filter(Date > \"2022-01-31\")#  %>% distinct(Date,.keep_all=TRUE) # %>% as_tsibble()%>% dplyr::select(-X)  #%>% dplyr::mutate_at(vars(\"Days2Expiry\"),as.factor)# %>% mutate(as.numeric(Days2Expiry))\n",
        "\n",
        "# train_bk<-apply(train_bk[,2:8],2,function(x) diff(log(x), lag=1))\n",
        "# test_bk<-apply(test_bk[,2:8],2,function(x) diff(log(x), lag=1))\n"
      ]
    },
    {
      "cell_type": "code",
      "execution_count": null,
      "metadata": {
        "id": "EvtdWXVHPGvV"
      },
      "outputs": [],
      "source": [
        "%%R\n",
        "#install.packages(\"dynlm\")\n",
        "library(dynlm)\n",
        "library(lmtest)\n",
        "#head(test_bk[,c(\"Open\",\"High\",\"Low\",\"Volume\",\"Turnover\",\"Days2Expiry\")])\n"
      ]
    },
    {
      "cell_type": "markdown",
      "metadata": {
        "id": "F5PJzbYC5Yt-"
      },
      "source": [
        "Since TSLM is throwing error lets resort to dynlm package"
      ]
    },
    {
      "cell_type": "code",
      "execution_count": null,
      "metadata": {
        "colab": {
          "base_uri": "https://localhost:8080/"
        },
        "id": "SNMLd4LgDxjh",
        "outputId": "ae82ff61-2298-43a1-b079-959b87515c9d"
      },
      "outputs": [
        {
          "output_type": "stream",
          "name": "stdout",
          "text": [
            "\n",
            "t test of coefficients:\n",
            "\n",
            "               Estimate  Std. Error  t value Pr(>|t|)    \n",
            "(Intercept) -7.2554e+00  1.2766e+01  -0.5684  0.56987    \n",
            "Open        -6.6383e-01  1.6120e-02 -41.1809  < 2e-16 ***\n",
            "High         8.9881e-01  1.5461e-02  58.1347  < 2e-16 ***\n",
            "Low          7.6540e-01  1.4175e-02  53.9974  < 2e-16 ***\n",
            "Turnover    -3.8264e-03  2.0198e-03  -1.8945  0.05833 .  \n",
            "Volume       2.7879e-08  3.7768e-08   0.7382  0.46051    \n",
            "Days2Expiry -6.1980e-02  1.2208e+00  -0.0508  0.95952    \n",
            "---\n",
            "Signif. codes:  0 ‘***’ 0.001 ‘**’ 0.01 ‘*’ 0.05 ‘.’ 0.1 ‘ ’ 1\n",
            "\n"
          ]
        }
      ],
      "source": [
        "%%R\n",
        "\n",
        "\n",
        "f_lm_dn<-dynlm(Close ~ Open+High+Low+Turnover+Volume+Days2Expiry,data=train_bk)\n",
        "pred_f_lm<-predict(f_lm_dn,newdata = test_bk[,c(\"Open\",\"High\",\"Low\",\"Turnover\",\"Volume\",\"Days2Expiry\")])\n",
        "coeftest(f_lm_dn, vcov. = NULL)\n",
        "\n"
      ]
    },
    {
      "cell_type": "code",
      "execution_count": null,
      "metadata": {
        "colab": {
          "base_uri": "https://localhost:8080/"
        },
        "id": "CtwyBDxY7S4-",
        "outputId": "74feacc6-4a78-4a5e-f835-78e3a6abeede"
      },
      "outputs": [
        {
          "output_type": "stream",
          "name": "stdout",
          "text": [
            "         Mean       SD\n",
            "1 -0.04773866 189.3336\n"
          ]
        }
      ],
      "source": [
        "%%R\n",
        "result_bn<-data.frame(Output=pred_f_lm,Test=test_bk$Close)\n",
        "result_bn<-result_bn %>% mutate(delta=Output-Test)\n",
        "result_dynamic_regression=data.frame(\"Mean\"=mean(result_bn$delta),\"SD\"=sd(result_bn$delta))\n",
        "result_dynamic_regression"
      ]
    },
    {
      "cell_type": "code",
      "execution_count": null,
      "metadata": {
        "colab": {
          "base_uri": "https://localhost:8080/",
          "height": 497
        },
        "id": "d2TYx14Y7m9D",
        "outputId": "6fdcc84c-32d0-4717-ec60-0e265d5851d9"
      },
      "outputs": [
        {
          "output_type": "display_data",
          "data": {
            "image/png": "[encoded data removed]"
          },
          "metadata": {}
        }
      ],
      "source": [
        "%%R\n",
        "plot(train_bk$Close,type=\"l\",col=4)\n",
        "lines(fitted(f_lm_dn), col = 2)"
      ]
    },
    {
      "cell_type": "markdown",
      "metadata": {
        "id": "5mdO8KzzaAH7"
      },
      "source": [
        "Unfortunately Time series regression is throwing error due to change is library stucture used in Hyndman latest book, that is my guess!!\n",
        "\n",
        "Let approach instead with dynamic regression model"
      ]
    },
    {
      "cell_type": "code",
      "execution_count": null,
      "metadata": {
        "id": "tXvRHQFNFUm1"
      },
      "outputs": [],
      "source": [
        "%%R\n",
        "\n",
        "\n",
        "fit1 <- auto.arima(as.ts(train_bk[,\"Close\"]), xreg=as.matrix(train_bk[,c(\"Open\",\"High\",\"Low\",\"Volume\",\"Turnover\",\"Days2Expiry\")]))\n",
        "fit_lag <- Arima(train_bk[,\"Close\"], xreg=as.matrix(train_bk[,c(\"Open\",\"High\",\"Low\",\"Volume\",\"Turnover\",\"Days2Expiry\")]),order=c(fit1$arma[1],fit1$arma[6],fit1$arma[2]),seasonal = list(order=c(fit1$arma[3],fit1$arma[7],fit1$arma[4]),period=fit1$arma[5]))\n",
        "Box.test(residuals(fit_lag),lag=10,type=\"Ljung\")# Box test shows that the residuals are not autocorrelated\n",
        "#xreg_fc<-rbind(c(369,3551,8958,2130,1818),c(197430,2402,3551,8958,2130),c(60813,2621,2402,3551,8958))\n",
        "fcast_xreg <- forecast(fit1,xreg=as.matrix(test_bk[,c(\"Open\",\"High\",\"Low\",\"Volume\",\"Turnover\",\"Days2Expiry\")]))\n",
        "fcast_xreg\n",
        "# new data\n",
        "# xreg_new=data.frame(\"Open\"=33765,\"High\"=34358,\"Low\"=33658,\"Volume\"=129371809,\"Turnover\"=4518,\"Days2Expiry\"=7)\n",
        "# fcst_new<-forecast(fit_lag,xreg=as.matrix(xreg_new))\n",
        "\n",
        "#########  NULL of BOX_LJUNG Test is that model fits fine(no lack of fit) & \n",
        "#significant P values would be A significant p-value in this test rejects the null hypothesis that the time series isn't autocorrelated.#########\n",
        "\n",
        "\n"
      ]
    },
    {
      "cell_type": "code",
      "execution_count": null,
      "metadata": {
        "colab": {
          "base_uri": "https://localhost:8080/",
          "height": 497
        },
        "id": "66M7T48JExDn",
        "outputId": "a1820249-6c1f-43ff-ba92-88687fdb2bb3"
      },
      "outputs": [
        {
          "output_type": "display_data",
          "data": {
            "image/png": "[encoded data removed]"
          },
          "metadata": {}
        }
      ],
      "source": [
        "%%R\n",
        "autoplot(as.ts(train_bk[,'Close']), series=\"Close Actual\") +\n",
        "  autolayer(fitted(fcast_xreg), series=\"Fitted\")+ylab(\"BankNifty\")+ggtitle(\"Fit vs Actual\")\n",
        "\n"
      ]
    },
    {
      "cell_type": "code",
      "execution_count": null,
      "metadata": {
        "colab": {
          "base_uri": "https://localhost:8080/"
        },
        "id": "3FiPSX-pSZej",
        "outputId": "69bf29d0-8e03-47dc-9d02-1cbf9b984638"
      },
      "outputs": [
        {
          "output_type": "stream",
          "name": "stdout",
          "text": [
            "[1] 189.5576\n"
          ]
        }
      ],
      "source": [
        "%%R\n",
        "accuracy(fit_lag)\n",
        "result_arimax<-data.frame(Output=fcast_xreg$mean,Test=test_bk$Close)\n",
        "result_arimax<-result_arimax %>% mutate(delta=Output-Test)\n",
        "mean(result_arimax$delta)\n",
        "sd(result_arimax$delta)"
      ]
    },
    {
      "cell_type": "code",
      "execution_count": null,
      "metadata": {
        "colab": {
          "base_uri": "https://localhost:8080/"
        },
        "id": "SZG-0mXtSwrc",
        "outputId": "ce74b999-d273-47c3-f9e1-047d8c7832aa"
      },
      "outputs": [
        {
          "output_type": "stream",
          "name": "stdout",
          "text": [
            "                 Point.Forecast    Lo.80    Hi.80    Lo.95   Hi.95\n",
            "Forecast Package       15777.13 15625.71 15928.54 15545.56 16008.7\n",
            "DYNLM Package          15777.13       NA       NA       NA      NA\n"
          ]
        }
      ],
      "source": [
        "%%R -i df_in\n",
        "\n",
        "#for Dynamic regression using FPP/Forecast package\n",
        "xreg_new=data.frame(\"Open\"=as.numeric(df_in[1,1]),\"High\"=as.numeric(df_in[1,2]),\"Low\"=as.numeric(df_in[1,3]),\"Volume\"=as.numeric(df_in[1,4]),\"Turnover\"=as.numeric(df_in[1,5])/10^7,\"Days2Expiry\"=7)\n",
        "#turnover is in cr in the base data\n",
        "fcst_new<-forecast(fit_lag,xreg=as.matrix(xreg_new))\n",
        "fcst_new\n",
        "#bknifty_curr<-data.frame(data=unlist((ln[[4]][[1]])))\n",
        "\n",
        "# using DYNLM PACKAGE\n",
        "pred_dynlm<-predict(f_lm_dn,newdata = xreg_new)\n",
        "pred_dynlm\n",
        "\n",
        "bind_rows(data.frame(fcst_new,row.names=\"Forecast Package\"),data.frame(Point.Forecast=pred_dynlm,row.names=\"DYNLM Package\"))\n",
        "\n"
      ]
    },
    {
      "cell_type": "code",
      "execution_count": null,
      "metadata": {
        "colab": {
          "base_uri": "https://localhost:8080/"
        },
        "id": "LqtSTHP4nXkj",
        "outputId": "a399b211-2531-4d29-df95-887803512b01"
      },
      "outputs": [
        {
          "output_type": "stream",
          "name": "stdout",
          "text": [
            "[1] 1814   12\n"
          ]
        }
      ],
      "source": [
        "%%R\n",
        "dim(bk_lag)"
      ]
    },
    {
      "cell_type": "code",
      "execution_count": null,
      "metadata": {
        "id": "W_a2982bcza0"
      },
      "outputs": [],
      "source": [
        "%%R\n",
        "head(bank_csv)\n",
        "bk_lag<-bank_csv %>% mutate(PreClose=lag(Close,1),Opn2prevClose=Open-PreClose,Open2High=Open-High,Open2Low=Open-Low,High2Low=High-Low)\n",
        "bk_lag<-bk_lag[-1,] # excluding first column"
      ]
    },
    {
      "cell_type": "code",
      "execution_count": null,
      "metadata": {
        "id": "hjGeUNLGc2pU"
      },
      "outputs": [],
      "source": [
        "%%R\n",
        "bk_lag$Date <-ymd(bk_lag$Date)\n",
        "\n",
        "# lets add a feature to capture the no of days from expiry, weekly expiry in case of banknifty\n",
        "# week_start uses Monday as 1 for week starting date\n",
        "bk_lag <-  bk_lag %>%  mutate(Days2Expiry = wday(Date,week_start = 4))\n",
        "bk_lag$Days2Expiry <-bk_lag$Days2Expiry#as.f`ctors"
      ]
    },
    {
      "cell_type": "code",
      "execution_count": null,
      "metadata": {
        "id": "TI6gWfZNdqlY"
      },
      "outputs": [],
      "source": [
        "%%R\n",
        "train_bk_lag<-bk_lag %>%  dplyr::filter(Date <= \"2022-01-31\",Date!=\"2021-11-01\") %>% dplyr::mutate_at(vars(\"Volume\"),as.numeric) %>% dplyr::mutate_at(vars(\"Turnover\"),as.numeric) %>% distinct(Date,.keep_all=TRUE) \n",
        "\n",
        "#%>% as_tsibble()%>% dplyr::mutate_at(vars(\"Days2Expiry\"),as.factor)#%>% dplyr::select(-X) #%>% dplyr::mutate_at(vars(\"Days2Expiry\"),as.factor)\n",
        "test_bk_lag<-bk_lag %>%  dplyr::filter(Date > \"2022-01-31\")#  %>% distinct(Date,.keep_all=TRUE) # %>% as_tsibble()%>% dplyr::select(-X)  #%>% dplyr::mutate_at(vars(\"Days2Expiry\"),as.factor)# %>% mutate(as.numeric(Days2Expiry))\n",
        "\n",
        "# train_bk<-apply(train_bk[,2:8],2,function(x) diff(log(x), lag=1))\n",
        "# test_bk<-apply(test_bk[,2:8],2,function(x) diff(log(x), lag=1))"
      ]
    },
    {
      "cell_type": "code",
      "execution_count": null,
      "metadata": {
        "colab": {
          "base_uri": "https://localhost:8080/"
        },
        "id": "VvreYke9ebqx",
        "outputId": "e8c0fc94-9b63-4695-d9b2-f3ba37c8ff28"
      },
      "outputs": [
        {
          "output_type": "stream",
          "name": "stdout",
          "text": [
            "Rows: 1,752\n",
            "Columns: 13\n",
            "$ Date          <date> 2015-01-02, 2015-01-05, 2015-01-06, 2015-01-07, 2015-01…\n",
            "$ Open          <dbl> 18752.20, 19155.20, 18874.60, 18382.55, 18587.10, 18845.…\n",
            "$ High          <dbl> 19118.85, 19166.00, 18874.60, 18482.05, 18752.30, 18864.…\n",
            "$ Low           <dbl> 18752.20, 18987.70, 18388.35, 18211.50, 18486.20, 18479.…\n",
            "$ Close         <dbl> 19057.80, 19017.40, 18430.75, 18304.25, 18701.40, 18637.…\n",
            "$ Volume        <dbl> 41288039, 36318747, 52069776, 58241387, 47744703, 518485…\n",
            "$ Turnover      <dbl> 1713.48, 1497.40, 2124.64, 2341.58, 2208.70, 2360.78, 14…\n",
            "$ Days2Expiry   <dbl> 2, 5, 6, 7, 1, 2, 5, 6, 7, 1, 2, 5, 6, 7, 1, 2, 6, 7, 1,…\n",
            "$ PreClose      <dbl> 18750.45, 19057.80, 19017.40, 18430.75, 18304.25, 18701.…\n",
            "$ Opn2prevClose <dbl> 1.75, 97.40, -142.80, -48.20, 282.85, 144.50, -5.25, 93.…\n",
            "$ Open2High     <dbl> -366.65, -10.80, 0.00, -99.50, -165.20, -18.10, -190.05,…\n",
            "$ Open2Low      <dbl> 0.00, 167.50, 486.25, 171.05, 100.90, 366.25, 101.90, 24…\n",
            "$ High2Low      <dbl> 366.65, 178.30, 486.25, 270.55, 266.10, 384.35, 291.95, …\n"
          ]
        }
      ],
      "source": [
        "%%R\n",
        "glimpse(train_bk_lag)"
      ]
    },
    {
      "cell_type": "code",
      "execution_count": null,
      "metadata": {
        "colab": {
          "base_uri": "https://localhost:8080/"
        },
        "id": "W0VxsmDmd2sZ",
        "outputId": "0f55c0fd-8b2a-45ee-e98f-d9d90eb6f9b8"
      },
      "outputs": [
        {
          "name": "stdout",
          "output_type": "stream",
          "text": [
            "NULL\n"
          ]
        }
      ],
      "source": [
        "%%R\n",
        "\n",
        "\n",
        "# fit1_new <- auto.arima(as.ts(train_bk_lag[,\"Close\"]), xreg=as.matrix(train_bk_lag[,c(\"Open\",\"Volume\",\"Turnover\",\"Days2Expiry\",\"Opn2prevClose\", \"Open2High\" , \"Open2Low\" ,\n",
        "# \"High2Low\")]))\n",
        "\n",
        "# str(fit1_new)\n",
        "\n",
        "# fit_lag_new <- Arima(train_bk_lag[,\"Close\"], xreg=as.matrix(train_bk_lag[,c(\"Open\",\"Volume\",\"Turnover\",\"Days2Expiry\",\"Opn2prevClose\", \"Open2High\" , \"Open2Low\",     \n",
        "# \"High2Low\")]),order=c(fit1_new$arma[1],fit1_new$arma[6],fit1_new$arma[2]),seasonal = list(order=c(fit1_new$arma[3],fit1_new$arma[7],fit1_new$arma[4]),period=fit1_new$arma[5]))\n",
        "# Box.test(residuals(fit_lag_new),lag=10,type=\"Ljung\")# Box test shows that the residuals are not autocorrelated\n",
        "# xreg_fc<-rbind(c(369,3551,8958,2130,1818),c(197430,2402,3551,8958,2130),c(60813,2621,2402,3551,8958))\n",
        "# fcast_xreg_new <- forecast(fit_lag_new,xreg=as.matrix(test_bk_lag[,c(\"Open\",\"Volume\",\"Turnover\",\"Days2Expiry\",\"Opn2prevClose\", \"Open2High\" , \"Open2Low\"     \n",
        "# \"High2Low\")]))\n",
        "# fcast_xreg_new\n",
        "#  new data\n",
        "# xreg_new_lag=data.frame(test_bk_lag)\n",
        "# fcst_new_lag<-forecast(fit_lag,xreg=as.matrix(xreg_new_lag))\n",
        "\n",
        "#########  NULL of BOX_LJUNG Test is that model fits fine(no lack of fit) & \n",
        "#significant P values would be A significant p-value in this test rejects the null hypothesis that the time series isn't autocorrelated.#########\n",
        "\n",
        "# saveRDS(model, file = \"model.rds\")\n",
        "# \n",
        "# Afterwards you can use\n",
        "# \n",
        "\n",
        "# loadedModel <- readRDS(model.rds)"
      ]
    },
    {
      "cell_type": "markdown",
      "metadata": {
        "id": "IbXCL5bzDkWe"
      },
      "source": [
        "Due to issues with ARIMAX , we again resort DYNLM package"
      ]
    },
    {
      "cell_type": "code",
      "execution_count": null,
      "metadata": {
        "colab": {
          "base_uri": "https://localhost:8080/"
        },
        "id": "NCvDl2OX9od8",
        "outputId": "c9c128e6-3c19-484c-d99a-6ce93e9fd371"
      },
      "outputs": [
        {
          "output_type": "stream",
          "name": "stdout",
          "text": [
            "\n",
            "t test of coefficients:\n",
            "\n",
            "                 Estimate  Std. Error   t value  Pr(>|t|)    \n",
            "(Intercept)   -7.7959e+00  1.2753e+01   -0.6113  0.541086    \n",
            "Open           1.0004e+00  4.9966e-04 2002.1752 < 2.2e-16 ***\n",
            "Turnover      -4.8793e-03  2.0506e-03   -2.3794  0.017448 *  \n",
            "Volume         3.9006e-08  3.7904e-08    1.0291  0.303594    \n",
            "Days2Expiry   -1.6075e-01  1.2200e+00   -0.1318  0.895188    \n",
            "Opn2prevClose  3.7019e-02  1.3023e-02    2.8427  0.004526 ** \n",
            "Open2High     -9.0720e-01  1.5713e-02  -57.7371 < 2.2e-16 ***\n",
            "Open2Low      -7.6170e-01  1.4209e-02  -53.6061 < 2.2e-16 ***\n",
            "High2Low               NA          NA        NA        NA    \n",
            "---\n",
            "Signif. codes:  0 ‘***’ 0.001 ‘**’ 0.01 ‘*’ 0.05 ‘.’ 0.1 ‘ ’ 1\n",
            "\n"
          ]
        }
      ],
      "source": [
        "%%R\n",
        "\n",
        "\n",
        "f_lm_dn_new<-dynlm(Close ~ Open+Turnover+Volume+Days2Expiry+Opn2prevClose+Open2High+Open2Low+High2Low,data=train_bk_lag)\n",
        "pred_new<-predict(f_lm_dn_new,newdata = test_bk_lag[,c(\"Open\",\"Turnover\",\"Volume\",\"Days2Expiry\",\"Opn2prevClose\", \"Open2High\" , \"Open2Low\" ,\n",
        "\"High2Low\")])\n",
        "coeftest(f_lm_dn_new, vcov. = NULL)"
      ]
    },
    {
      "cell_type": "code",
      "execution_count": null,
      "metadata": {
        "id": "3S8z0U6rm6S3"
      },
      "outputs": [],
      "source": [
        "%%R\n",
        "# using NNETAR method, input ashoukd be a DF\n",
        "train_bk_df=as.data.frame(train_bk_lag) %>% na.omit()\n",
        "train_bk_df"
      ]
    },
    {
      "cell_type": "code",
      "execution_count": null,
      "metadata": {
        "id": "f7XFftKpgGi1"
      },
      "outputs": [],
      "source": [
        "%%R\n",
        "\n",
        "train_bk_df=as.data.frame(train_bk_lag) %>% na.omit()\n",
        "fitNnet <- nnetar(as.ts(train_bk_df[,\"Close\"]), xreg=train_bk_df[,c(\"Open\",\"Volume\",\"Turnover\",\"Days2Expiry\",\"Opn2prevClose\", \"Open2High\" , \"Open2Low\" ,\n",
        "\"High2Low\")])\n",
        "\n",
        "#xreg_fc<-rbind(c(369,3551,8958,2130,1818),c(197430,2402,3551,8958,2130),c(60813,2621,2402,3551,8958))\n",
        "fcast_nnet <- forecast(fitNnet,xreg=as.matrix(test_bk_lag[,c(\"Open\",\"Volume\",\"Turnover\",\"Days2Expiry\",\"Opn2prevClose\", \"Open2High\" , \"Open2Low\" ,\n",
        "\"High2Low\")]))\n",
        "fcast_nnet\n",
        "#  new data\n",
        "\n",
        "\n"
      ]
    },
    {
      "cell_type": "code",
      "execution_count": null,
      "metadata": {
        "colab": {
          "base_uri": "https://localhost:8080/"
        },
        "id": "UIm6aRfcp9Fb",
        "outputId": "f5c35bb7-412d-466d-ddb3-18ad1ac18eb7"
      },
      "outputs": [
        {
          "name": "stdout",
          "output_type": "stream",
          "text": [
            "\n",
            "\tBox-Ljung test\n",
            "\n",
            "data:  residuals(fitNnet)\n",
            "X-squared = 19.076, df = 2, p-value = 7.206e-05\n",
            "\n"
          ]
        }
      ],
      "source": [
        "%%R\n",
        "Box.test(residuals(fitNnet),lag=2,type=\"Ljung\")\n",
        "# null is no Auto correlation,  since the p value is below the threshold(very low) , the null has to be rejected thus Box test shows that the residuals are  autocorrelated\n",
        "# hence this model cannot be relied upon"
      ]
    },
    {
      "cell_type": "markdown",
      "metadata": {
        "id": "CUWnw_XE_kZo"
      },
      "source": [
        "Forecasting both using NNETAR & DYNLM model\n",
        "\n",
        "DYNLM seems to be performing exceptioanlly well"
      ]
    },
    {
      "cell_type": "code",
      "execution_count": null,
      "metadata": {
        "colab": {
          "base_uri": "https://localhost:8080/"
        },
        "id": "1H0DbINBmxjw",
        "outputId": "9ec3417f-f8c8-4ce7-80c7-64f12f32dee0"
      },
      "outputs": [
        {
          "output_type": "stream",
          "name": "stdout",
          "text": [
            "       Point.Forecast\n",
            "NNETAR       18572.33\n",
            "DYNLM        15758.47\n"
          ]
        }
      ],
      "source": [
        "%%R -i df_in\n",
        "\n",
        "\n",
        "xreg_new_nn=data.frame(\"Open\"=as.numeric(df_in[1,1]),\"Volume\"=as.numeric(df_in[1,4]),\"Turnover\"=as.numeric(df_in[1,5])/10^7,\"Opn2prevClose\"=as.numeric(df_in[1,1]-df_in[1,6]), \"Open2High\"=as.numeric(df_in[1,1]-df_in[1,2]) , \"Open2Low\"=as.numeric(df_in[1,1]-df_in[1,3]) ,\n",
        "\"High2Low\"=as.numeric(df_in[1,2]-df_in[1,3]),\"Days2Expiry\"=5)\n",
        "\n",
        "fcst_new_nnet<-forecast(fitNnet,xreg=as.matrix(xreg_new_nn))\n",
        "\n",
        "result_nnet<-data.frame(Output=fcast_nnet$mean,Test=test_bk$Close) %>% mutate(delta=Output-Test)\n",
        "fcst_new_dyn<-predict(f_lm_dn_new,newdata =xreg_new_nn )\n",
        "\n",
        "bind_rows(data.frame(Point.Forecast=fcst_new_nnet,row.names=\"NNETAR\"),data.frame(Point.Forecast=fcst_new_dyn,row.names=\"DYNLM\"))\n",
        "#result_nnet"
      ]
    },
    {
      "cell_type": "markdown",
      "metadata": {
        "id": "B3V0CfaXB04K"
      },
      "source": [
        "Save Model for later use:\n",
        "saveRDS(f_lm_dn_new, file = \"dynlm_new.rds\")\n",
        "\n",
        "Afterwards you can use load the model\n",
        "\n",
        "loadedModel <- readRDS(\"dynlm_new.rds\") and then pass new data to the predict function\n",
        "\n",
        "predict(loadedModel,xreg_new_nn)"
      ]
    },
    {
      "cell_type": "code",
      "execution_count": null,
      "metadata": {
        "id": "ug1vTd4ortT5"
      },
      "outputs": [],
      "source": [
        "%%R\n",
        "saveRDS(f_lm_dn_new, file = \"/content/drive/MyDrive/ModelOutput/dynlm_new.rds\")#  based on new measure , not using High & low data\n",
        "saveRDS(fitNnet,file=\"/content/drive/MyDrive/ModelOutput/nnetar_new.rds\")#based on new measure , not using High & low data\n",
        "saveRDS(f_lm_dn ,file=\"/content/drive/MyDrive/ModelOutput/dynlm_classic.rds\") # based on OHLC measure\n",
        "saveRDS(fit_lag,file=\"/content/drive/MyDrive/ModelOutput/arimax_classic.rds\")# using the initial modelling approach of including High ,Low values\n",
        "# \n",
        "# Afterwards you can use\n",
        "# \n",
        "# loadedModel <- readRDS(model.rds)"
      ]
    },
    {
      "cell_type": "code",
      "execution_count": null,
      "metadata": {
        "id": "Y5DOIAdkBcx1",
        "colab": {
          "base_uri": "https://localhost:8080/",
          "height": 975
        },
        "outputId": "deb5f634-0efd-43a8-d05f-2bd0afcec47f"
      },
      "outputs": [
        {
          "output_type": "stream",
          "name": "stderr",
          "text": [
            "R[write to console]: Error in gzfile(file, \"rb\") : cannot open the connection\n",
            "\n",
            "R[write to console]: In addition: \n",
            "R[write to console]: Warning messages:\n",
            "\n",
            "R[write to console]: 1: \n",
            "R[write to console]: In predict.lm(readRDS(\"/content/drive/MyDrive/ModelOutput/dynlm_new.rds\"),  :\n",
            "R[write to console]: \n",
            " \n",
            "R[write to console]:  prediction from a rank-deficient fit may be misleading\n",
            "\n",
            "R[write to console]: 2: \n",
            "R[write to console]: In forecast.nnetar(readRDS(\"/content/drive/MyDrive/ModelOutput/nnetar_new.rds\"),  :\n",
            "R[write to console]: \n",
            " \n",
            "R[write to console]:  xreg contains different column names from the xreg used in training. Please check that the regressors are in the same order.\n",
            "\n",
            "R[write to console]: 3: \n",
            "R[write to console]: In gzfile(file, \"rb\") :\n",
            "R[write to console]: \n",
            " \n",
            "R[write to console]:  cannot open compressed file 'dynlm_new.rds', probable reason 'No such file or directory'\n",
            "\n"
          ]
        },
        {
          "output_type": "stream",
          "name": "stdout",
          "text": [
            "\n",
            "Error in gzfile(file, \"rb\") : cannot open the connection\n"
          ]
        },
        {
          "output_type": "error",
          "ename": "RInterpreterError",
          "evalue": "ignored",
          "traceback": [
            "\u001b[0;31m---------------------------------------------------------------------------\u001b[0m",
            "\u001b[0;31mRRuntimeError\u001b[0m                             Traceback (most recent call last)",
            "\u001b[0;32m/usr/local/lib/python3.7/dist-packages/rpy2/ipython/rmagic.py\u001b[0m in \u001b[0;36meval\u001b[0;34m(self, code)\u001b[0m\n\u001b[1;32m    267\u001b[0m                 \u001b[0;31m# Need the newline in case the last line in code is a comment.\u001b[0m\u001b[0;34m\u001b[0m\u001b[0;34m\u001b[0m\u001b[0;34m\u001b[0m\u001b[0m\n\u001b[0;32m--> 268\u001b[0;31m                 \u001b[0mvalue\u001b[0m\u001b[0;34m,\u001b[0m \u001b[0mvisible\u001b[0m \u001b[0;34m=\u001b[0m \u001b[0mro\u001b[0m\u001b[0;34m.\u001b[0m\u001b[0mr\u001b[0m\u001b[0;34m(\u001b[0m\u001b[0;34m\"withVisible({%s\\n})\"\u001b[0m \u001b[0;34m%\u001b[0m \u001b[0mcode\u001b[0m\u001b[0;34m)\u001b[0m\u001b[0;34m\u001b[0m\u001b[0;34m\u001b[0m\u001b[0m\n\u001b[0m\u001b[1;32m    269\u001b[0m             \u001b[0;32mexcept\u001b[0m \u001b[0;34m(\u001b[0m\u001b[0mri\u001b[0m\u001b[0;34m.\u001b[0m\u001b[0membedded\u001b[0m\u001b[0;34m.\u001b[0m\u001b[0mRRuntimeError\u001b[0m\u001b[0;34m,\u001b[0m \u001b[0mValueError\u001b[0m\u001b[0;34m)\u001b[0m \u001b[0;32mas\u001b[0m \u001b[0mexception\u001b[0m\u001b[0;34m:\u001b[0m\u001b[0;34m\u001b[0m\u001b[0;34m\u001b[0m\u001b[0m\n",
            "\u001b[0;32m/usr/local/lib/python3.7/dist-packages/rpy2/robjects/__init__.py\u001b[0m in \u001b[0;36m__call__\u001b[0;34m(self, string)\u001b[0m\n\u001b[1;32m    437\u001b[0m         \u001b[0mp\u001b[0m \u001b[0;34m=\u001b[0m \u001b[0mrinterface\u001b[0m\u001b[0;34m.\u001b[0m\u001b[0mparse\u001b[0m\u001b[0;34m(\u001b[0m\u001b[0mstring\u001b[0m\u001b[0;34m)\u001b[0m\u001b[0;34m\u001b[0m\u001b[0;34m\u001b[0m\u001b[0m\n\u001b[0;32m--> 438\u001b[0;31m         \u001b[0mres\u001b[0m \u001b[0;34m=\u001b[0m \u001b[0mself\u001b[0m\u001b[0;34m.\u001b[0m\u001b[0meval\u001b[0m\u001b[0;34m(\u001b[0m\u001b[0mp\u001b[0m\u001b[0;34m)\u001b[0m\u001b[0;34m\u001b[0m\u001b[0;34m\u001b[0m\u001b[0m\n\u001b[0m\u001b[1;32m    439\u001b[0m         \u001b[0;32mreturn\u001b[0m \u001b[0mconversion\u001b[0m\u001b[0;34m.\u001b[0m\u001b[0mrpy2py\u001b[0m\u001b[0;34m(\u001b[0m\u001b[0mres\u001b[0m\u001b[0;34m)\u001b[0m\u001b[0;34m\u001b[0m\u001b[0;34m\u001b[0m\u001b[0m\n",
            "\u001b[0;32m/usr/local/lib/python3.7/dist-packages/rpy2/robjects/functions.py\u001b[0m in \u001b[0;36m__call__\u001b[0;34m(self, *args, **kwargs)\u001b[0m\n\u001b[1;32m    198\u001b[0m         return (super(SignatureTranslatedFunction, self)\n\u001b[0;32m--> 199\u001b[0;31m                 .__call__(*args, **kwargs))\n\u001b[0m\u001b[1;32m    200\u001b[0m \u001b[0;34m\u001b[0m\u001b[0m\n",
            "\u001b[0;32m/usr/local/lib/python3.7/dist-packages/rpy2/robjects/functions.py\u001b[0m in \u001b[0;36m__call__\u001b[0;34m(self, *args, **kwargs)\u001b[0m\n\u001b[1;32m    124\u001b[0m                 \u001b[0mnew_kwargs\u001b[0m\u001b[0;34m[\u001b[0m\u001b[0mk\u001b[0m\u001b[0;34m]\u001b[0m \u001b[0;34m=\u001b[0m \u001b[0mconversion\u001b[0m\u001b[0;34m.\u001b[0m\u001b[0mpy2rpy\u001b[0m\u001b[0;34m(\u001b[0m\u001b[0mv\u001b[0m\u001b[0;34m)\u001b[0m\u001b[0;34m\u001b[0m\u001b[0;34m\u001b[0m\u001b[0m\n\u001b[0;32m--> 125\u001b[0;31m         \u001b[0mres\u001b[0m \u001b[0;34m=\u001b[0m \u001b[0msuper\u001b[0m\u001b[0;34m(\u001b[0m\u001b[0mFunction\u001b[0m\u001b[0;34m,\u001b[0m \u001b[0mself\u001b[0m\u001b[0;34m)\u001b[0m\u001b[0;34m.\u001b[0m\u001b[0m__call__\u001b[0m\u001b[0;34m(\u001b[0m\u001b[0;34m*\u001b[0m\u001b[0mnew_args\u001b[0m\u001b[0;34m,\u001b[0m \u001b[0;34m**\u001b[0m\u001b[0mnew_kwargs\u001b[0m\u001b[0;34m)\u001b[0m\u001b[0;34m\u001b[0m\u001b[0;34m\u001b[0m\u001b[0m\n\u001b[0m\u001b[1;32m    126\u001b[0m         \u001b[0mres\u001b[0m \u001b[0;34m=\u001b[0m \u001b[0mconversion\u001b[0m\u001b[0;34m.\u001b[0m\u001b[0mrpy2py\u001b[0m\u001b[0;34m(\u001b[0m\u001b[0mres\u001b[0m\u001b[0;34m)\u001b[0m\u001b[0;34m\u001b[0m\u001b[0;34m\u001b[0m\u001b[0m\n",
            "\u001b[0;32m/usr/local/lib/python3.7/dist-packages/rpy2/rinterface_lib/conversion.py\u001b[0m in \u001b[0;36m_\u001b[0;34m(*args, **kwargs)\u001b[0m\n\u001b[1;32m     44\u001b[0m     \u001b[0;32mdef\u001b[0m \u001b[0m_\u001b[0m\u001b[0;34m(\u001b[0m\u001b[0;34m*\u001b[0m\u001b[0margs\u001b[0m\u001b[0;34m,\u001b[0m \u001b[0;34m**\u001b[0m\u001b[0mkwargs\u001b[0m\u001b[0;34m)\u001b[0m\u001b[0;34m:\u001b[0m\u001b[0;34m\u001b[0m\u001b[0;34m\u001b[0m\u001b[0m\n\u001b[0;32m---> 45\u001b[0;31m         \u001b[0mcdata\u001b[0m \u001b[0;34m=\u001b[0m \u001b[0mfunction\u001b[0m\u001b[0;34m(\u001b[0m\u001b[0;34m*\u001b[0m\u001b[0margs\u001b[0m\u001b[0;34m,\u001b[0m \u001b[0;34m**\u001b[0m\u001b[0mkwargs\u001b[0m\u001b[0;34m)\u001b[0m\u001b[0;34m\u001b[0m\u001b[0;34m\u001b[0m\u001b[0m\n\u001b[0m\u001b[1;32m     46\u001b[0m         \u001b[0;31m# TODO: test cdata is of the expected CType\u001b[0m\u001b[0;34m\u001b[0m\u001b[0;34m\u001b[0m\u001b[0;34m\u001b[0m\u001b[0m\n",
            "\u001b[0;32m/usr/local/lib/python3.7/dist-packages/rpy2/rinterface.py\u001b[0m in \u001b[0;36m__call__\u001b[0;34m(self, *args, **kwargs)\u001b[0m\n\u001b[1;32m    679\u001b[0m             \u001b[0;32mif\u001b[0m \u001b[0merror_occured\u001b[0m\u001b[0;34m[\u001b[0m\u001b[0;36m0\u001b[0m\u001b[0;34m]\u001b[0m\u001b[0;34m:\u001b[0m\u001b[0;34m\u001b[0m\u001b[0;34m\u001b[0m\u001b[0m\n\u001b[0;32m--> 680\u001b[0;31m                 \u001b[0;32mraise\u001b[0m \u001b[0membedded\u001b[0m\u001b[0;34m.\u001b[0m\u001b[0mRRuntimeError\u001b[0m\u001b[0;34m(\u001b[0m\u001b[0m_rinterface\u001b[0m\u001b[0;34m.\u001b[0m\u001b[0m_geterrmessage\u001b[0m\u001b[0;34m(\u001b[0m\u001b[0;34m)\u001b[0m\u001b[0;34m)\u001b[0m\u001b[0;34m\u001b[0m\u001b[0;34m\u001b[0m\u001b[0m\n\u001b[0m\u001b[1;32m    681\u001b[0m         \u001b[0;32mreturn\u001b[0m \u001b[0mres\u001b[0m\u001b[0;34m\u001b[0m\u001b[0;34m\u001b[0m\u001b[0m\n",
            "\u001b[0;31mRRuntimeError\u001b[0m: Error in gzfile(file, \"rb\") : cannot open the connection\n",
            "\nDuring handling of the above exception, another exception occurred:\n",
            "\u001b[0;31mRInterpreterError\u001b[0m                         Traceback (most recent call last)",
            "\u001b[0;32m<ipython-input-49-7fed32623902>\u001b[0m in \u001b[0;36m<module>\u001b[0;34m()\u001b[0m\n\u001b[0;32m----> 1\u001b[0;31m \u001b[0mget_ipython\u001b[0m\u001b[0;34m(\u001b[0m\u001b[0;34m)\u001b[0m\u001b[0;34m.\u001b[0m\u001b[0mrun_cell_magic\u001b[0m\u001b[0;34m(\u001b[0m\u001b[0;34m'R'\u001b[0m\u001b[0;34m,\u001b[0m \u001b[0;34m''\u001b[0m\u001b[0;34m,\u001b[0m \u001b[0;34m'loadedModel <- readRDS(\"dynlm_new.rds\")'\u001b[0m\u001b[0;34m)\u001b[0m\u001b[0;34m\u001b[0m\u001b[0;34m\u001b[0m\u001b[0m\n\u001b[0m",
            "\u001b[0;32m/usr/local/lib/python3.7/dist-packages/IPython/core/interactiveshell.py\u001b[0m in \u001b[0;36mrun_cell_magic\u001b[0;34m(self, magic_name, line, cell)\u001b[0m\n\u001b[1;32m   2115\u001b[0m             \u001b[0mmagic_arg_s\u001b[0m \u001b[0;34m=\u001b[0m \u001b[0mself\u001b[0m\u001b[0;34m.\u001b[0m\u001b[0mvar_expand\u001b[0m\u001b[0;34m(\u001b[0m\u001b[0mline\u001b[0m\u001b[0;34m,\u001b[0m \u001b[0mstack_depth\u001b[0m\u001b[0;34m)\u001b[0m\u001b[0;34m\u001b[0m\u001b[0;34m\u001b[0m\u001b[0m\n\u001b[1;32m   2116\u001b[0m             \u001b[0;32mwith\u001b[0m \u001b[0mself\u001b[0m\u001b[0;34m.\u001b[0m\u001b[0mbuiltin_trap\u001b[0m\u001b[0;34m:\u001b[0m\u001b[0;34m\u001b[0m\u001b[0;34m\u001b[0m\u001b[0m\n\u001b[0;32m-> 2117\u001b[0;31m                 \u001b[0mresult\u001b[0m \u001b[0;34m=\u001b[0m \u001b[0mfn\u001b[0m\u001b[0;34m(\u001b[0m\u001b[0mmagic_arg_s\u001b[0m\u001b[0;34m,\u001b[0m \u001b[0mcell\u001b[0m\u001b[0;34m)\u001b[0m\u001b[0;34m\u001b[0m\u001b[0;34m\u001b[0m\u001b[0m\n\u001b[0m\u001b[1;32m   2118\u001b[0m             \u001b[0;32mreturn\u001b[0m \u001b[0mresult\u001b[0m\u001b[0;34m\u001b[0m\u001b[0;34m\u001b[0m\u001b[0m\n\u001b[1;32m   2119\u001b[0m \u001b[0;34m\u001b[0m\u001b[0m\n",
            "\u001b[0;32m<decorator-gen-119>\u001b[0m in \u001b[0;36mR\u001b[0;34m(self, line, cell, local_ns)\u001b[0m\n",
            "\u001b[0;32m/usr/local/lib/python3.7/dist-packages/IPython/core/magic.py\u001b[0m in \u001b[0;36m<lambda>\u001b[0;34m(f, *a, **k)\u001b[0m\n\u001b[1;32m    186\u001b[0m     \u001b[0;31m# but it's overkill for just that one bit of state.\u001b[0m\u001b[0;34m\u001b[0m\u001b[0;34m\u001b[0m\u001b[0;34m\u001b[0m\u001b[0m\n\u001b[1;32m    187\u001b[0m     \u001b[0;32mdef\u001b[0m \u001b[0mmagic_deco\u001b[0m\u001b[0;34m(\u001b[0m\u001b[0marg\u001b[0m\u001b[0;34m)\u001b[0m\u001b[0;34m:\u001b[0m\u001b[0;34m\u001b[0m\u001b[0;34m\u001b[0m\u001b[0m\n\u001b[0;32m--> 188\u001b[0;31m         \u001b[0mcall\u001b[0m \u001b[0;34m=\u001b[0m \u001b[0;32mlambda\u001b[0m \u001b[0mf\u001b[0m\u001b[0;34m,\u001b[0m \u001b[0;34m*\u001b[0m\u001b[0ma\u001b[0m\u001b[0;34m,\u001b[0m \u001b[0;34m**\u001b[0m\u001b[0mk\u001b[0m\u001b[0;34m:\u001b[0m \u001b[0mf\u001b[0m\u001b[0;34m(\u001b[0m\u001b[0;34m*\u001b[0m\u001b[0ma\u001b[0m\u001b[0;34m,\u001b[0m \u001b[0;34m**\u001b[0m\u001b[0mk\u001b[0m\u001b[0;34m)\u001b[0m\u001b[0;34m\u001b[0m\u001b[0;34m\u001b[0m\u001b[0m\n\u001b[0m\u001b[1;32m    189\u001b[0m \u001b[0;34m\u001b[0m\u001b[0m\n\u001b[1;32m    190\u001b[0m         \u001b[0;32mif\u001b[0m \u001b[0mcallable\u001b[0m\u001b[0;34m(\u001b[0m\u001b[0marg\u001b[0m\u001b[0;34m)\u001b[0m\u001b[0;34m:\u001b[0m\u001b[0;34m\u001b[0m\u001b[0;34m\u001b[0m\u001b[0m\n",
            "\u001b[0;32m/usr/local/lib/python3.7/dist-packages/rpy2/ipython/rmagic.py\u001b[0m in \u001b[0;36mR\u001b[0;34m(self, line, cell, local_ns)\u001b[0m\n\u001b[1;32m    781\u001b[0m             \u001b[0;32mif\u001b[0m \u001b[0;32mnot\u001b[0m \u001b[0me\u001b[0m\u001b[0;34m.\u001b[0m\u001b[0mstdout\u001b[0m\u001b[0;34m.\u001b[0m\u001b[0mendswith\u001b[0m\u001b[0;34m(\u001b[0m\u001b[0me\u001b[0m\u001b[0;34m.\u001b[0m\u001b[0merr\u001b[0m\u001b[0;34m)\u001b[0m\u001b[0;34m:\u001b[0m\u001b[0;34m\u001b[0m\u001b[0;34m\u001b[0m\u001b[0m\n\u001b[1;32m    782\u001b[0m                 \u001b[0mprint\u001b[0m\u001b[0;34m(\u001b[0m\u001b[0me\u001b[0m\u001b[0;34m.\u001b[0m\u001b[0merr\u001b[0m\u001b[0;34m)\u001b[0m\u001b[0;34m\u001b[0m\u001b[0;34m\u001b[0m\u001b[0m\n\u001b[0;32m--> 783\u001b[0;31m             \u001b[0;32mraise\u001b[0m \u001b[0me\u001b[0m\u001b[0;34m\u001b[0m\u001b[0;34m\u001b[0m\u001b[0m\n\u001b[0m\u001b[1;32m    784\u001b[0m         \u001b[0;32mfinally\u001b[0m\u001b[0;34m:\u001b[0m\u001b[0;34m\u001b[0m\u001b[0;34m\u001b[0m\u001b[0m\n\u001b[1;32m    785\u001b[0m             \u001b[0;32mif\u001b[0m \u001b[0mself\u001b[0m\u001b[0;34m.\u001b[0m\u001b[0mdevice\u001b[0m \u001b[0;32min\u001b[0m \u001b[0;34m[\u001b[0m\u001b[0;34m'png'\u001b[0m\u001b[0;34m,\u001b[0m \u001b[0;34m'svg'\u001b[0m\u001b[0;34m]\u001b[0m\u001b[0;34m:\u001b[0m\u001b[0;34m\u001b[0m\u001b[0;34m\u001b[0m\u001b[0m\n",
            "\u001b[0;32m/usr/local/lib/python3.7/dist-packages/rpy2/ipython/rmagic.py\u001b[0m in \u001b[0;36mR\u001b[0;34m(self, line, cell, local_ns)\u001b[0m\n\u001b[1;32m    761\u001b[0m                     \u001b[0mreturn_output\u001b[0m \u001b[0;34m=\u001b[0m \u001b[0;32mFalse\u001b[0m\u001b[0;34m\u001b[0m\u001b[0;34m\u001b[0m\u001b[0m\n\u001b[1;32m    762\u001b[0m             \u001b[0;32melse\u001b[0m\u001b[0;34m:\u001b[0m\u001b[0;34m\u001b[0m\u001b[0;34m\u001b[0m\u001b[0m\n\u001b[0;32m--> 763\u001b[0;31m                 \u001b[0mtext_result\u001b[0m\u001b[0;34m,\u001b[0m \u001b[0mresult\u001b[0m\u001b[0;34m,\u001b[0m \u001b[0mvisible\u001b[0m \u001b[0;34m=\u001b[0m \u001b[0mself\u001b[0m\u001b[0;34m.\u001b[0m\u001b[0meval\u001b[0m\u001b[0;34m(\u001b[0m\u001b[0mcode\u001b[0m\u001b[0;34m)\u001b[0m\u001b[0;34m\u001b[0m\u001b[0;34m\u001b[0m\u001b[0m\n\u001b[0m\u001b[1;32m    764\u001b[0m                 \u001b[0mtext_output\u001b[0m \u001b[0;34m+=\u001b[0m \u001b[0mtext_result\u001b[0m\u001b[0;34m\u001b[0m\u001b[0;34m\u001b[0m\u001b[0m\n\u001b[1;32m    765\u001b[0m                 \u001b[0;32mif\u001b[0m \u001b[0mvisible\u001b[0m\u001b[0;34m:\u001b[0m\u001b[0;34m\u001b[0m\u001b[0;34m\u001b[0m\u001b[0m\n",
            "\u001b[0;32m/usr/local/lib/python3.7/dist-packages/rpy2/ipython/rmagic.py\u001b[0m in \u001b[0;36meval\u001b[0;34m(self, code)\u001b[0m\n\u001b[1;32m    271\u001b[0m                 \u001b[0mwarning_or_other_msg\u001b[0m \u001b[0;34m=\u001b[0m \u001b[0mself\u001b[0m\u001b[0;34m.\u001b[0m\u001b[0mflush\u001b[0m\u001b[0;34m(\u001b[0m\u001b[0;34m)\u001b[0m\u001b[0;34m\u001b[0m\u001b[0;34m\u001b[0m\u001b[0m\n\u001b[1;32m    272\u001b[0m                 raise RInterpreterError(code, str(exception),\n\u001b[0;32m--> 273\u001b[0;31m                                         warning_or_other_msg)\n\u001b[0m\u001b[1;32m    274\u001b[0m             \u001b[0mtext_output\u001b[0m \u001b[0;34m=\u001b[0m \u001b[0mself\u001b[0m\u001b[0;34m.\u001b[0m\u001b[0mflush\u001b[0m\u001b[0;34m(\u001b[0m\u001b[0;34m)\u001b[0m\u001b[0;34m\u001b[0m\u001b[0;34m\u001b[0m\u001b[0m\n\u001b[1;32m    275\u001b[0m             \u001b[0;32mreturn\u001b[0m \u001b[0mtext_output\u001b[0m\u001b[0;34m,\u001b[0m \u001b[0mvalue\u001b[0m\u001b[0;34m,\u001b[0m \u001b[0mvisible\u001b[0m\u001b[0;34m[\u001b[0m\u001b[0;36m0\u001b[0m\u001b[0;34m]\u001b[0m\u001b[0;34m\u001b[0m\u001b[0;34m\u001b[0m\u001b[0m\n",
            "\u001b[0;31mRInterpreterError\u001b[0m: Failed to parse and evaluate line 'loadedModel <- readRDS(\"dynlm_new.rds\")'.\nR error message: 'Error in gzfile(file, \"rb\") : cannot open the connection'"
          ]
        }
      ],
      "source": [
        "%%R\n",
        "loadedModel <- readRDS(\"dynlm_new.rds\")"
      ]
    },
    {
      "cell_type": "markdown",
      "metadata": {
        "id": "Lp9LWZnPLTLG"
      },
      "source": [
        "Now that we have trained and saved the model, let use the below code to extract data from NSE site.\n",
        "Basically we use python REQUEST library to pull almost real time data use NSE API\n",
        "\n"
      ]
    },
    {
      "cell_type": "code",
      "execution_count": null,
      "metadata": {
        "id": "IOj2cJ-ybzq3"
      },
      "outputs": [],
      "source": [
        "%load_ext rpy2.ipython"
      ]
    },
    {
      "cell_type": "markdown",
      "source": [
        "TO import downloaded R packages and make it available to the current R session in colab"
      ],
      "metadata": {
        "id": "3QrbKRBs260m"
      }
    },
    {
      "cell_type": "code",
      "source": [
        "#Copy it in your working directory\n",
        "!cp /content/drive/MyDrive/src/library.tar.gz\n",
        "!du -sh /content/drive/MyDrive/src/library.tar.gz\n",
        "#Extract installed packaged from the zipped file\n",
        "!tar xf /content/drive/MyDrive/src/library.tar.gz\n",
        "\n",
        "#/content/drive/MyDrive/src/library.tar.gz\n"
      ],
      "metadata": {
        "colab": {
          "base_uri": "https://localhost:8080/"
        },
        "id": "GnEyDzrf2QP5",
        "outputId": "dcc4a1ca-11d2-48aa-a530-b61442225ccd"
      },
      "execution_count": null,
      "outputs": [
        {
          "output_type": "stream",
          "name": "stdout",
          "text": [
            "cp: missing destination file operand after '/content/drive/MyDrive/src/library.tar.gz'\n",
            "Try 'cp --help' for more information.\n",
            "1.2M\t/content/drive/MyDrive/src/library.tar.gz\n",
            "tar: Removing leading `/' from member names\n"
          ]
        }
      ]
    },
    {
      "cell_type": "code",
      "source": [
        "%%R\n",
        "#Extract the installed packages from the zipped file.\n",
        ".libPaths('usr/local/lib/R/site-library/')"
      ],
      "metadata": {
        "id": "M5-U8Sg0N-Fo"
      },
      "execution_count": null,
      "outputs": []
    },
    {
      "cell_type": "code",
      "source": [
        "%%R\n",
        "library(forecast)\n",
        "#library(fpp3)\n",
        "library(lubridate)\n",
        "library(dynlm)\n",
        "library(DBI)\n",
        "library(RSQLite)\n",
        "library(tidyverse)\n",
        "library(dbplyr)\n",
        "library(readr)"
      ],
      "metadata": {
        "colab": {
          "base_uri": "https://localhost:8080/",
          "height": 620
        },
        "id": "X2GM1abD3nyC",
        "outputId": "71ddb057-1495-43bf-eb9d-356ebb094910"
      },
      "execution_count": null,
      "outputs": [
        {
          "output_type": "stream",
          "name": "stderr",
          "text": [
            "R[write to console]: Error in library(forecast) : there is no package called ‘forecast’\n",
            "\n"
          ]
        },
        {
          "output_type": "stream",
          "name": "stdout",
          "text": [
            "\n",
            "Error in library(forecast) : there is no package called ‘forecast’\n"
          ]
        },
        {
          "output_type": "error",
          "ename": "RInterpreterError",
          "evalue": "ignored",
          "traceback": [
            "\u001b[0;31m---------------------------------------------------------------------------\u001b[0m",
            "\u001b[0;31mRRuntimeError\u001b[0m                             Traceback (most recent call last)",
            "\u001b[0;32m/usr/local/lib/python3.7/dist-packages/rpy2/ipython/rmagic.py\u001b[0m in \u001b[0;36meval\u001b[0;34m(self, code)\u001b[0m\n\u001b[1;32m    267\u001b[0m                 \u001b[0;31m# Need the newline in case the last line in code is a comment.\u001b[0m\u001b[0;34m\u001b[0m\u001b[0;34m\u001b[0m\u001b[0;34m\u001b[0m\u001b[0m\n\u001b[0;32m--> 268\u001b[0;31m                 \u001b[0mvalue\u001b[0m\u001b[0;34m,\u001b[0m \u001b[0mvisible\u001b[0m \u001b[0;34m=\u001b[0m \u001b[0mro\u001b[0m\u001b[0;34m.\u001b[0m\u001b[0mr\u001b[0m\u001b[0;34m(\u001b[0m\u001b[0;34m\"withVisible({%s\\n})\"\u001b[0m \u001b[0;34m%\u001b[0m \u001b[0mcode\u001b[0m\u001b[0;34m)\u001b[0m\u001b[0;34m\u001b[0m\u001b[0;34m\u001b[0m\u001b[0m\n\u001b[0m\u001b[1;32m    269\u001b[0m             \u001b[0;32mexcept\u001b[0m \u001b[0;34m(\u001b[0m\u001b[0mri\u001b[0m\u001b[0;34m.\u001b[0m\u001b[0membedded\u001b[0m\u001b[0;34m.\u001b[0m\u001b[0mRRuntimeError\u001b[0m\u001b[0;34m,\u001b[0m \u001b[0mValueError\u001b[0m\u001b[0;34m)\u001b[0m \u001b[0;32mas\u001b[0m \u001b[0mexception\u001b[0m\u001b[0;34m:\u001b[0m\u001b[0;34m\u001b[0m\u001b[0;34m\u001b[0m\u001b[0m\n",
            "\u001b[0;32m/usr/local/lib/python3.7/dist-packages/rpy2/robjects/__init__.py\u001b[0m in \u001b[0;36m__call__\u001b[0;34m(self, string)\u001b[0m\n\u001b[1;32m    437\u001b[0m         \u001b[0mp\u001b[0m \u001b[0;34m=\u001b[0m \u001b[0mrinterface\u001b[0m\u001b[0;34m.\u001b[0m\u001b[0mparse\u001b[0m\u001b[0;34m(\u001b[0m\u001b[0mstring\u001b[0m\u001b[0;34m)\u001b[0m\u001b[0;34m\u001b[0m\u001b[0;34m\u001b[0m\u001b[0m\n\u001b[0;32m--> 438\u001b[0;31m         \u001b[0mres\u001b[0m \u001b[0;34m=\u001b[0m \u001b[0mself\u001b[0m\u001b[0;34m.\u001b[0m\u001b[0meval\u001b[0m\u001b[0;34m(\u001b[0m\u001b[0mp\u001b[0m\u001b[0;34m)\u001b[0m\u001b[0;34m\u001b[0m\u001b[0;34m\u001b[0m\u001b[0m\n\u001b[0m\u001b[1;32m    439\u001b[0m         \u001b[0;32mreturn\u001b[0m \u001b[0mconversion\u001b[0m\u001b[0;34m.\u001b[0m\u001b[0mrpy2py\u001b[0m\u001b[0;34m(\u001b[0m\u001b[0mres\u001b[0m\u001b[0;34m)\u001b[0m\u001b[0;34m\u001b[0m\u001b[0;34m\u001b[0m\u001b[0m\n",
            "\u001b[0;32m/usr/local/lib/python3.7/dist-packages/rpy2/robjects/functions.py\u001b[0m in \u001b[0;36m__call__\u001b[0;34m(self, *args, **kwargs)\u001b[0m\n\u001b[1;32m    198\u001b[0m         return (super(SignatureTranslatedFunction, self)\n\u001b[0;32m--> 199\u001b[0;31m                 .__call__(*args, **kwargs))\n\u001b[0m\u001b[1;32m    200\u001b[0m \u001b[0;34m\u001b[0m\u001b[0m\n",
            "\u001b[0;32m/usr/local/lib/python3.7/dist-packages/rpy2/robjects/functions.py\u001b[0m in \u001b[0;36m__call__\u001b[0;34m(self, *args, **kwargs)\u001b[0m\n\u001b[1;32m    124\u001b[0m                 \u001b[0mnew_kwargs\u001b[0m\u001b[0;34m[\u001b[0m\u001b[0mk\u001b[0m\u001b[0;34m]\u001b[0m \u001b[0;34m=\u001b[0m \u001b[0mconversion\u001b[0m\u001b[0;34m.\u001b[0m\u001b[0mpy2rpy\u001b[0m\u001b[0;34m(\u001b[0m\u001b[0mv\u001b[0m\u001b[0;34m)\u001b[0m\u001b[0;34m\u001b[0m\u001b[0;34m\u001b[0m\u001b[0m\n\u001b[0;32m--> 125\u001b[0;31m         \u001b[0mres\u001b[0m \u001b[0;34m=\u001b[0m \u001b[0msuper\u001b[0m\u001b[0;34m(\u001b[0m\u001b[0mFunction\u001b[0m\u001b[0;34m,\u001b[0m \u001b[0mself\u001b[0m\u001b[0;34m)\u001b[0m\u001b[0;34m.\u001b[0m\u001b[0m__call__\u001b[0m\u001b[0;34m(\u001b[0m\u001b[0;34m*\u001b[0m\u001b[0mnew_args\u001b[0m\u001b[0;34m,\u001b[0m \u001b[0;34m**\u001b[0m\u001b[0mnew_kwargs\u001b[0m\u001b[0;34m)\u001b[0m\u001b[0;34m\u001b[0m\u001b[0;34m\u001b[0m\u001b[0m\n\u001b[0m\u001b[1;32m    126\u001b[0m         \u001b[0mres\u001b[0m \u001b[0;34m=\u001b[0m \u001b[0mconversion\u001b[0m\u001b[0;34m.\u001b[0m\u001b[0mrpy2py\u001b[0m\u001b[0;34m(\u001b[0m\u001b[0mres\u001b[0m\u001b[0;34m)\u001b[0m\u001b[0;34m\u001b[0m\u001b[0;34m\u001b[0m\u001b[0m\n",
            "\u001b[0;32m/usr/local/lib/python3.7/dist-packages/rpy2/rinterface_lib/conversion.py\u001b[0m in \u001b[0;36m_\u001b[0;34m(*args, **kwargs)\u001b[0m\n\u001b[1;32m     44\u001b[0m     \u001b[0;32mdef\u001b[0m \u001b[0m_\u001b[0m\u001b[0;34m(\u001b[0m\u001b[0;34m*\u001b[0m\u001b[0margs\u001b[0m\u001b[0;34m,\u001b[0m \u001b[0;34m**\u001b[0m\u001b[0mkwargs\u001b[0m\u001b[0;34m)\u001b[0m\u001b[0;34m:\u001b[0m\u001b[0;34m\u001b[0m\u001b[0;34m\u001b[0m\u001b[0m\n\u001b[0;32m---> 45\u001b[0;31m         \u001b[0mcdata\u001b[0m \u001b[0;34m=\u001b[0m \u001b[0mfunction\u001b[0m\u001b[0;34m(\u001b[0m\u001b[0;34m*\u001b[0m\u001b[0margs\u001b[0m\u001b[0;34m,\u001b[0m \u001b[0;34m**\u001b[0m\u001b[0mkwargs\u001b[0m\u001b[0;34m)\u001b[0m\u001b[0;34m\u001b[0m\u001b[0;34m\u001b[0m\u001b[0m\n\u001b[0m\u001b[1;32m     46\u001b[0m         \u001b[0;31m# TODO: test cdata is of the expected CType\u001b[0m\u001b[0;34m\u001b[0m\u001b[0;34m\u001b[0m\u001b[0;34m\u001b[0m\u001b[0m\n",
            "\u001b[0;32m/usr/local/lib/python3.7/dist-packages/rpy2/rinterface.py\u001b[0m in \u001b[0;36m__call__\u001b[0;34m(self, *args, **kwargs)\u001b[0m\n\u001b[1;32m    679\u001b[0m             \u001b[0;32mif\u001b[0m \u001b[0merror_occured\u001b[0m\u001b[0;34m[\u001b[0m\u001b[0;36m0\u001b[0m\u001b[0;34m]\u001b[0m\u001b[0;34m:\u001b[0m\u001b[0;34m\u001b[0m\u001b[0;34m\u001b[0m\u001b[0m\n\u001b[0;32m--> 680\u001b[0;31m                 \u001b[0;32mraise\u001b[0m \u001b[0membedded\u001b[0m\u001b[0;34m.\u001b[0m\u001b[0mRRuntimeError\u001b[0m\u001b[0;34m(\u001b[0m\u001b[0m_rinterface\u001b[0m\u001b[0;34m.\u001b[0m\u001b[0m_geterrmessage\u001b[0m\u001b[0;34m(\u001b[0m\u001b[0;34m)\u001b[0m\u001b[0;34m)\u001b[0m\u001b[0;34m\u001b[0m\u001b[0;34m\u001b[0m\u001b[0m\n\u001b[0m\u001b[1;32m    681\u001b[0m         \u001b[0;32mreturn\u001b[0m \u001b[0mres\u001b[0m\u001b[0;34m\u001b[0m\u001b[0;34m\u001b[0m\u001b[0m\n",
            "\u001b[0;31mRRuntimeError\u001b[0m: Error in library(forecast) : there is no package called ‘forecast’\n",
            "\nDuring handling of the above exception, another exception occurred:\n",
            "\u001b[0;31mRInterpreterError\u001b[0m                         Traceback (most recent call last)",
            "\u001b[0;32m<ipython-input-4-a46c963bad5d>\u001b[0m in \u001b[0;36m<module>\u001b[0;34m()\u001b[0m\n\u001b[0;32m----> 1\u001b[0;31m \u001b[0mget_ipython\u001b[0m\u001b[0;34m(\u001b[0m\u001b[0;34m)\u001b[0m\u001b[0;34m.\u001b[0m\u001b[0mrun_cell_magic\u001b[0m\u001b[0;34m(\u001b[0m\u001b[0;34m'R'\u001b[0m\u001b[0;34m,\u001b[0m \u001b[0;34m''\u001b[0m\u001b[0;34m,\u001b[0m \u001b[0;34m'library(forecast)\\n#library(fpp3)\\nlibrary(lubridate)\\nlibrary(dynlm)\\nlibrary(DBI)\\nlibrary(RSQLite)\\nlibrary(tidyverse)\\nlibrary(dbplyr)\\nlibrary(readr)'\u001b[0m\u001b[0;34m)\u001b[0m\u001b[0;34m\u001b[0m\u001b[0;34m\u001b[0m\u001b[0m\n\u001b[0m",
            "\u001b[0;32m/usr/local/lib/python3.7/dist-packages/IPython/core/interactiveshell.py\u001b[0m in \u001b[0;36mrun_cell_magic\u001b[0;34m(self, magic_name, line, cell)\u001b[0m\n\u001b[1;32m   2115\u001b[0m             \u001b[0mmagic_arg_s\u001b[0m \u001b[0;34m=\u001b[0m \u001b[0mself\u001b[0m\u001b[0;34m.\u001b[0m\u001b[0mvar_expand\u001b[0m\u001b[0;34m(\u001b[0m\u001b[0mline\u001b[0m\u001b[0;34m,\u001b[0m \u001b[0mstack_depth\u001b[0m\u001b[0;34m)\u001b[0m\u001b[0;34m\u001b[0m\u001b[0;34m\u001b[0m\u001b[0m\n\u001b[1;32m   2116\u001b[0m             \u001b[0;32mwith\u001b[0m \u001b[0mself\u001b[0m\u001b[0;34m.\u001b[0m\u001b[0mbuiltin_trap\u001b[0m\u001b[0;34m:\u001b[0m\u001b[0;34m\u001b[0m\u001b[0;34m\u001b[0m\u001b[0m\n\u001b[0;32m-> 2117\u001b[0;31m                 \u001b[0mresult\u001b[0m \u001b[0;34m=\u001b[0m \u001b[0mfn\u001b[0m\u001b[0;34m(\u001b[0m\u001b[0mmagic_arg_s\u001b[0m\u001b[0;34m,\u001b[0m \u001b[0mcell\u001b[0m\u001b[0;34m)\u001b[0m\u001b[0;34m\u001b[0m\u001b[0;34m\u001b[0m\u001b[0m\n\u001b[0m\u001b[1;32m   2118\u001b[0m             \u001b[0;32mreturn\u001b[0m \u001b[0mresult\u001b[0m\u001b[0;34m\u001b[0m\u001b[0;34m\u001b[0m\u001b[0m\n\u001b[1;32m   2119\u001b[0m \u001b[0;34m\u001b[0m\u001b[0m\n",
            "\u001b[0;32m<decorator-gen-119>\u001b[0m in \u001b[0;36mR\u001b[0;34m(self, line, cell, local_ns)\u001b[0m\n",
            "\u001b[0;32m/usr/local/lib/python3.7/dist-packages/IPython/core/magic.py\u001b[0m in \u001b[0;36m<lambda>\u001b[0;34m(f, *a, **k)\u001b[0m\n\u001b[1;32m    186\u001b[0m     \u001b[0;31m# but it's overkill for just that one bit of state.\u001b[0m\u001b[0;34m\u001b[0m\u001b[0;34m\u001b[0m\u001b[0;34m\u001b[0m\u001b[0m\n\u001b[1;32m    187\u001b[0m     \u001b[0;32mdef\u001b[0m \u001b[0mmagic_deco\u001b[0m\u001b[0;34m(\u001b[0m\u001b[0marg\u001b[0m\u001b[0;34m)\u001b[0m\u001b[0;34m:\u001b[0m\u001b[0;34m\u001b[0m\u001b[0;34m\u001b[0m\u001b[0m\n\u001b[0;32m--> 188\u001b[0;31m         \u001b[0mcall\u001b[0m \u001b[0;34m=\u001b[0m \u001b[0;32mlambda\u001b[0m \u001b[0mf\u001b[0m\u001b[0;34m,\u001b[0m \u001b[0;34m*\u001b[0m\u001b[0ma\u001b[0m\u001b[0;34m,\u001b[0m \u001b[0;34m**\u001b[0m\u001b[0mk\u001b[0m\u001b[0;34m:\u001b[0m \u001b[0mf\u001b[0m\u001b[0;34m(\u001b[0m\u001b[0;34m*\u001b[0m\u001b[0ma\u001b[0m\u001b[0;34m,\u001b[0m \u001b[0;34m**\u001b[0m\u001b[0mk\u001b[0m\u001b[0;34m)\u001b[0m\u001b[0;34m\u001b[0m\u001b[0;34m\u001b[0m\u001b[0m\n\u001b[0m\u001b[1;32m    189\u001b[0m \u001b[0;34m\u001b[0m\u001b[0m\n\u001b[1;32m    190\u001b[0m         \u001b[0;32mif\u001b[0m \u001b[0mcallable\u001b[0m\u001b[0;34m(\u001b[0m\u001b[0marg\u001b[0m\u001b[0;34m)\u001b[0m\u001b[0;34m:\u001b[0m\u001b[0;34m\u001b[0m\u001b[0;34m\u001b[0m\u001b[0m\n",
            "\u001b[0;32m/usr/local/lib/python3.7/dist-packages/rpy2/ipython/rmagic.py\u001b[0m in \u001b[0;36mR\u001b[0;34m(self, line, cell, local_ns)\u001b[0m\n\u001b[1;32m    781\u001b[0m             \u001b[0;32mif\u001b[0m \u001b[0;32mnot\u001b[0m \u001b[0me\u001b[0m\u001b[0;34m.\u001b[0m\u001b[0mstdout\u001b[0m\u001b[0;34m.\u001b[0m\u001b[0mendswith\u001b[0m\u001b[0;34m(\u001b[0m\u001b[0me\u001b[0m\u001b[0;34m.\u001b[0m\u001b[0merr\u001b[0m\u001b[0;34m)\u001b[0m\u001b[0;34m:\u001b[0m\u001b[0;34m\u001b[0m\u001b[0;34m\u001b[0m\u001b[0m\n\u001b[1;32m    782\u001b[0m                 \u001b[0mprint\u001b[0m\u001b[0;34m(\u001b[0m\u001b[0me\u001b[0m\u001b[0;34m.\u001b[0m\u001b[0merr\u001b[0m\u001b[0;34m)\u001b[0m\u001b[0;34m\u001b[0m\u001b[0;34m\u001b[0m\u001b[0m\n\u001b[0;32m--> 783\u001b[0;31m             \u001b[0;32mraise\u001b[0m \u001b[0me\u001b[0m\u001b[0;34m\u001b[0m\u001b[0;34m\u001b[0m\u001b[0m\n\u001b[0m\u001b[1;32m    784\u001b[0m         \u001b[0;32mfinally\u001b[0m\u001b[0;34m:\u001b[0m\u001b[0;34m\u001b[0m\u001b[0;34m\u001b[0m\u001b[0m\n\u001b[1;32m    785\u001b[0m             \u001b[0;32mif\u001b[0m \u001b[0mself\u001b[0m\u001b[0;34m.\u001b[0m\u001b[0mdevice\u001b[0m \u001b[0;32min\u001b[0m \u001b[0;34m[\u001b[0m\u001b[0;34m'png'\u001b[0m\u001b[0;34m,\u001b[0m \u001b[0;34m'svg'\u001b[0m\u001b[0;34m]\u001b[0m\u001b[0;34m:\u001b[0m\u001b[0;34m\u001b[0m\u001b[0;34m\u001b[0m\u001b[0m\n",
            "\u001b[0;32m/usr/local/lib/python3.7/dist-packages/rpy2/ipython/rmagic.py\u001b[0m in \u001b[0;36mR\u001b[0;34m(self, line, cell, local_ns)\u001b[0m\n\u001b[1;32m    761\u001b[0m                     \u001b[0mreturn_output\u001b[0m \u001b[0;34m=\u001b[0m \u001b[0;32mFalse\u001b[0m\u001b[0;34m\u001b[0m\u001b[0;34m\u001b[0m\u001b[0m\n\u001b[1;32m    762\u001b[0m             \u001b[0;32melse\u001b[0m\u001b[0;34m:\u001b[0m\u001b[0;34m\u001b[0m\u001b[0;34m\u001b[0m\u001b[0m\n\u001b[0;32m--> 763\u001b[0;31m                 \u001b[0mtext_result\u001b[0m\u001b[0;34m,\u001b[0m \u001b[0mresult\u001b[0m\u001b[0;34m,\u001b[0m \u001b[0mvisible\u001b[0m \u001b[0;34m=\u001b[0m \u001b[0mself\u001b[0m\u001b[0;34m.\u001b[0m\u001b[0meval\u001b[0m\u001b[0;34m(\u001b[0m\u001b[0mcode\u001b[0m\u001b[0;34m)\u001b[0m\u001b[0;34m\u001b[0m\u001b[0;34m\u001b[0m\u001b[0m\n\u001b[0m\u001b[1;32m    764\u001b[0m                 \u001b[0mtext_output\u001b[0m \u001b[0;34m+=\u001b[0m \u001b[0mtext_result\u001b[0m\u001b[0;34m\u001b[0m\u001b[0;34m\u001b[0m\u001b[0m\n\u001b[1;32m    765\u001b[0m                 \u001b[0;32mif\u001b[0m \u001b[0mvisible\u001b[0m\u001b[0;34m:\u001b[0m\u001b[0;34m\u001b[0m\u001b[0;34m\u001b[0m\u001b[0m\n",
            "\u001b[0;32m/usr/local/lib/python3.7/dist-packages/rpy2/ipython/rmagic.py\u001b[0m in \u001b[0;36meval\u001b[0;34m(self, code)\u001b[0m\n\u001b[1;32m    271\u001b[0m                 \u001b[0mwarning_or_other_msg\u001b[0m \u001b[0;34m=\u001b[0m \u001b[0mself\u001b[0m\u001b[0;34m.\u001b[0m\u001b[0mflush\u001b[0m\u001b[0;34m(\u001b[0m\u001b[0;34m)\u001b[0m\u001b[0;34m\u001b[0m\u001b[0;34m\u001b[0m\u001b[0m\n\u001b[1;32m    272\u001b[0m                 raise RInterpreterError(code, str(exception),\n\u001b[0;32m--> 273\u001b[0;31m                                         warning_or_other_msg)\n\u001b[0m\u001b[1;32m    274\u001b[0m             \u001b[0mtext_output\u001b[0m \u001b[0;34m=\u001b[0m \u001b[0mself\u001b[0m\u001b[0;34m.\u001b[0m\u001b[0mflush\u001b[0m\u001b[0;34m(\u001b[0m\u001b[0;34m)\u001b[0m\u001b[0;34m\u001b[0m\u001b[0;34m\u001b[0m\u001b[0m\n\u001b[1;32m    275\u001b[0m             \u001b[0;32mreturn\u001b[0m \u001b[0mtext_output\u001b[0m\u001b[0;34m,\u001b[0m \u001b[0mvalue\u001b[0m\u001b[0;34m,\u001b[0m \u001b[0mvisible\u001b[0m\u001b[0;34m[\u001b[0m\u001b[0;36m0\u001b[0m\u001b[0;34m]\u001b[0m\u001b[0;34m\u001b[0m\u001b[0;34m\u001b[0m\u001b[0m\n",
            "\u001b[0;31mRInterpreterError\u001b[0m: Failed to parse and evaluate line 'library(forecast)\\n#library(fpp3)\\nlibrary(lubridate)\\nlibrary(dynlm)\\nlibrary(DBI)\\nlibrary(RSQLite)\\nlibrary(tidyverse)\\nlibrary(dbplyr)\\nlibrary(readr)'.\nR error message: 'Error in library(forecast) : there is no package called ‘forecast’'"
          ]
        }
      ]
    },
    {
      "cell_type": "code",
      "execution_count": null,
      "metadata": {
        "colab": {
          "base_uri": "https://localhost:8080/"
        },
        "id": "tQctldf6MQoz",
        "outputId": "e9c502dd-0540-4fc5-d2ac-14c17653ad10"
      },
      "outputs": [
        {
          "output_type": "stream",
          "name": "stderr",
          "text": [
            "R[write to console]: ── Attaching packages ─────────────────────────────────────── tidyverse 1.3.1 ──\n",
            "\n",
            "R[write to console]: ✔ ggplot2 3.3.6     ✔ purrr   0.3.4\n",
            "✔ tibble  3.1.7     ✔ dplyr   1.0.9\n",
            "✔ tidyr   1.2.0     ✔ stringr 1.4.0\n",
            "✔ readr   2.1.2     ✔ forcats 0.5.1\n",
            "\n",
            "R[write to console]: ── Conflicts ────────────────────────────────────────── tidyverse_conflicts() ──\n",
            "✖ dplyr::filter() masks stats::filter()\n",
            "✖ dplyr::lag()    masks stats::lag()\n",
            "\n",
            "R[write to console]: \n",
            "Attaching package: ‘lubridate’\n",
            "\n",
            "\n",
            "R[write to console]: The following objects are masked from ‘package:base’:\n",
            "\n",
            "    date, intersect, setdiff, union\n",
            "\n",
            "\n"
          ]
        },
        {
          "output_type": "stream",
          "name": "stdout",
          "text": [
            "[1] 1\n"
          ]
        }
      ],
      "source": [
        "%%R\n",
        "library(tidyverse)\n",
        "library(lubridate)\n",
        "#exp_date=read_csv(\"/content/drive/MyDrive/Expiry2022.csv\",show_col_types = FALSE)\n",
        "exp_dt=c('6-Jan-2022','13-Jan-2022','20-Jan-2022','27-Jan-2022','3-Feb-2022','10-Feb-2022','17-Feb-2022','24-Feb-2022','3-Mar-2022','10-Mar-2022','17-Mar-2022','24-Mar-2022','31-Mar-2022','7-Apr-2022','13-Apr-2022','21-Apr-2022','28-Apr-2022','5-May-2022','12-May-2022','19-May-2022','26-May-2022','2-Jun-2022','9-Jun-2022','16-Jun-2022','23-Jun-2022','30-Jun-2022','7-Jul-2022','14-Jul-2022','21-Jul-2022','28-Jul-2022','4-Aug-2022','11-Aug-2022','18-Aug-2022','25-Aug-2022','1-Sep-2022','8-Sep-2022','15-Sep-2022','22-Sep-2022','29-Sep-2022','6-Oct-2022','13-Oct-2022','20-Oct-2022','27-Oct-2022','3-Nov-2022','10-Nov-2022','17-Nov-2022','24-Nov-2022','1-Dec-2022','8-Dec-2022','15-Dec-2022','22-Dec-2022','29-Dec-2022')\n",
        "expiry_date=data.frame(ExpD=lubridate::dmy(exp_dt))%>%\n",
        "mutate(DiffDate=difftime(ExpD,ymd(Sys.Date()),unit=\"days\"))%>%\n",
        "mutate(DiffDate=difftime(ExpD,ymd(Sys.Date()),unit=\"days\")) %>% \n",
        "mutate(DiffDate=as.numeric(DiffDate)) %>% filter(DiffDate>0) \n",
        "\n",
        "print(head(expiry_date$DiffDate,n=1))\n",
        "\n",
        "\n"
      ]
    },
    {
      "cell_type": "code",
      "source": [
        "getIndex=input('IndexCode? NIFTY,BANKNIFTY--') \n",
        "getIndex=getIndex.upper()"
      ],
      "metadata": {
        "colab": {
          "base_uri": "https://localhost:8080/"
        },
        "id": "cgz3MJJpudsG",
        "outputId": "40d90e4e-eac5-4cc1-a544-7efb307873a8"
      },
      "execution_count": null,
      "outputs": [
        {
          "name": "stdout",
          "output_type": "stream",
          "text": [
            "IndexCode? NIFTY,BANKNIFTY--nifty\n"
          ]
        }
      ]
    },
    {
      "cell_type": "code",
      "execution_count": null,
      "metadata": {
        "colab": {
          "base_uri": "https://localhost:8080/",
          "height": 53
        },
        "id": "ZlSR7gLDSfnQ",
        "outputId": "1a409ae2-053f-48e5-b0f7-c16ed4ac5647"
      },
      "outputs": [
        {
          "output_type": "execute_result",
          "data": {
            "text/plain": [
              "' above dictionary output shows the the keys returned by NSE API , \\nto extract relevant data we will use Pandas json_normalize function to \\nget the revelant output from deeply nested list\\n'"
            ],
            "application/vnd.google.colaboratory.intrinsic+json": {
              "type": "string"
            }
          },
          "metadata": {},
          "execution_count": 11
        }
      ],
      "source": [
        "import requests\n",
        "import numpy as np\n",
        "import pandas as pd\n",
        "from datetime import datetime\n",
        "import json\n",
        "url_oc = r\"https://www.nseindia.com/option-chain\"\n",
        "#url_oc =\"https://web.sensibull.com/option-chain?expiry=2021-02-04&tradingsymbol=NIFTY\"\n",
        "#url=f\"https://www.nseindia.com/api/option-chain-indices?symbol=NIFTY\"\n",
        "\n",
        "# This url seem to work \n",
        "if getIndex==\"BANKNIFTY\":\n",
        "#\"https://www.nseindia.com/api/quote-derivative?symbol=BANKNIFTY\"\n",
        "  url = r\"https://www.nseindia.com/api/equity-stockIndices?index=NIFTY%20BANK\"\n",
        "\n",
        "else:\n",
        "  url=r\"https://www.nseindia.com/api/equity-stockIndices?index=NIFTY%2050\"\n",
        "#url\n",
        "headers = {'user-agent': 'Mozilla/5.0 (Windows NT 10.0; Win64; x64) AppleWebKit/537.36 (KHTML, '\n",
        "                         'like Gecko) '\n",
        "                         'Chrome/80.0.3987.149 Safari/537.36',\n",
        "           'accept-language': 'en,gu;q=0.9,hi;q=0.8', 'accept-encoding': 'gzip, deflate, br'}\n",
        "session = requests.Session()\n",
        "request = session.get(url_oc, headers=headers, timeout=5)\n",
        "cookies = dict(request.cookies)\n",
        "response = session.get(url, headers=headers, timeout=5, cookies=cookies)\n",
        "js=response.json()\n",
        "#jsp=json.dumps(list(js.values())[1]['data'])\n",
        "#dict_keys(['name', 'advance', 'timestamp', 'data', 'metadata', 'marketStatus', 'date30dAgo', 'date365dAgo'])\n",
        "''' above dictionary output shows the the keys returned by NSE API , \n",
        "to extract relevant data we will use Pandas json_normalize function to \n",
        "get the revelant output from deeply nested list\n",
        "'''\n",
        "#df1=pd.json_normalize(js['data'])\n",
        "\n"
      ]
    },
    {
      "cell_type": "code",
      "execution_count": null,
      "metadata": {
        "colab": {
          "base_uri": "https://localhost:8080/"
        },
        "id": "MqsZlazuT9xz",
        "outputId": "ca043a3c-bb43-46fd-dd9e-1f6513be502c"
      },
      "outputs": [
        {
          "output_type": "stream",
          "name": "stdout",
          "text": [
            "Current Price: 16126.9\n",
            "      open  dayHigh   dayLow  totalTradedVolume  totalTradedValue  \\\n",
            "0  16128.2  16139.6  16102.2           26102191      2.054323e+10   \n",
            "\n",
            "   previousClose  \n",
            "0        16058.3  \n"
          ]
        }
      ],
      "source": [
        "df1=pd.json_normalize(js['data'])\n",
        "\n",
        "df_in=df1[['symbol', 'identifier', 'open', 'dayHigh', 'dayLow',\n",
        "       'lastPrice', 'previousClose', 'change', 'pChange', 'ffmc', 'yearHigh',\n",
        "       'yearLow', 'totalTradedVolume', 'totalTradedValue']]\n",
        "if getIndex ==\"NIFTY\":\n",
        "  df_in=df_in[df_in['symbol']==\"NIFTY 50\"]\n",
        "else:\n",
        "  df_in=df_in[df_in['symbol']==\"NIFTY BANK\"] #\"NIFTY BANK\"\n",
        "# seekcting relevant columns\n",
        "df_in=df_in[['open', 'dayHigh', 'dayLow','totalTradedVolume', 'totalTradedValue','previousClose']]\n",
        "df_curr=df1[['lastPrice']]\n",
        "print('Current Price:' ,df_curr.iloc[0,0])\n",
        "print(df_in)\n",
        "\n",
        "\n"
      ]
    },
    {
      "cell_type": "markdown",
      "metadata": {
        "id": "qVBC0gj1bl53"
      },
      "source": [
        "To get recent expiry date, currently applicable for bank Nifty only\n",
        "need to tweak code for other scripts which are not on weekly expiry"
      ]
    },
    {
      "cell_type": "code",
      "execution_count": null,
      "metadata": {
        "colab": {
          "base_uri": "https://localhost:8080/"
        },
        "id": "4YVF9MVYLLXN",
        "outputId": "7baef098-d70e-48f0-c892-d7313b107839"
      },
      "outputs": [
        {
          "output_type": "stream",
          "name": "stdout",
          "text": [
            "     Open     High      Low    Volume Turnover Days2Expiry Opn2prevClose\n",
            "1 16126.2 16158.75 16031.15 208648707 16042.41           1            NA\n",
            "2 16126.2       NA       NA 208648707 16042.41           1         -89.8\n",
            "  Open2High Open2Low High2Low\n",
            "1        NA       NA       NA\n",
            "2    -32.55    95.05    127.6\n"
          ]
        }
      ],
      "source": [
        "%%R -i df_in\n",
        "\n",
        "df_in\n",
        "\n",
        "# # for Dynamic regression using FPP/Forecast package\n",
        "xreg_new=data.frame(\"Open\"=as.numeric(df_in[1,1]),\"High\"=as.numeric(df_in[1,2]),\"Low\"=as.numeric(df_in[1,3]),\"Volume\"=as.numeric(df_in[1,4]),\"Turnover\"=as.numeric(df_in[1,5])/10^7,\"Days2Expiry\"=min(expiry_date$DiffDate))\n",
        "#turnover is in cr in the base data\n",
        "\n",
        "xreg_new_nn=data.frame(\"Open\"=as.numeric(df_in[1,1]),\"Volume\"=as.numeric(df_in[1,4]),\"Turnover\"=as.numeric(df_in[1,5])/10^7,\"Opn2prevClose\"=as.numeric(df_in[1,1]-df_in[1,6]), \"Open2High\"=as.numeric(df_in[1,1]-df_in[1,2]) , \"Open2Low\"=as.numeric(df_in[1,1]-df_in[1,3]) ,\n",
        "\"High2Low\"=as.numeric(df_in[1,2]-df_in[1,3]),\"Days2Expiry\"=min(expiry_date$DiffDate))\n",
        "\n",
        "print(bind_rows(xreg_new,xreg_new_nn))"
      ]
    },
    {
      "cell_type": "code",
      "execution_count": null,
      "metadata": {
        "colab": {
          "base_uri": "https://localhost:8080/"
        },
        "id": "IzDsDM8uCL0_",
        "outputId": "08534b64-1cd9-4d67-8a76-e45a61cf6ead"
      },
      "outputs": [
        {
          "output_type": "stream",
          "name": "stdout",
          "text": [
            "                       Point.Forecast\n",
            "DYNLM_wit_add._feature       16008.37\n",
            "DYNLM Package                16025.97\n"
          ]
        }
      ],
      "source": [
        "%%R\n",
        "#install.packages(\"forecast\")\n",
        "# library(forecast)\n",
        "dy_new=predict(readRDS(\"/content/drive/MyDrive/ModelOutput/dynlm_new.rds\"),newdata=xreg_new_nn)\n",
        "# nn_new=forecast(readRDS(\"/content/drive/MyDrive/ModelOutput/nnetar_new.rds\"),xreg=as.matrix(xreg_new_nn))\n",
        "dy_ohlc=predict(readRDS(\"/content/drive/MyDrive/ModelOutput/dynlm_classic.rds\"),newdata=xreg_new)\n",
        "# arimax_ohlc=forecast(readRDS(\"/content/drive/MyDrive/ModelOutput/arimax_classic.rds\"),xreg=as.matrix(xreg_new))\n",
        "\n",
        "# bind_rows(data.frame(Point.Forecast=nn_new,row.names=\"NNETAR\"),data.frame(Point.Forecast=dy_new,row.names=\"DYNLM_wit_add._feature\"),data.frame(arimax_ohlc,row.names=\"Forecast Package\"),data.frame(Point.Forecast=dy_ohlc,row.names=\"DYNLM Package\"))\n",
        "\n",
        "bind_rows(data.frame(Point.Forecast=dy_new,row.names=\"DYNLM_wit_add._feature\"),data.frame(Point.Forecast=dy_ohlc,row.names=\"DYNLM Package\"))"
      ]
    }
  ],
  "metadata": {
    "colab": {
      "collapsed_sections": [],
      "name": "TimeSeries Forecasting.ipynb",
      "provenance": [],
      "mount_file_id": "1DpoVDaB6QUo6hJwpI6ROwrhGuuMQkbN4",
      "authorship_tag": "ABX9TyM08Q/UvlKCDwzxXBDC0grJ",
      "include_colab_link": true
    },
    "kernelspec": {
      "display_name": "Python 3",
      "name": "python3"
    },
    "language_info": {
      "name": "python"
    }
  },
  "nbformat": 4,
  "nbformat_minor": 0
}